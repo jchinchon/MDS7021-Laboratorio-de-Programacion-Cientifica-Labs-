{
  "cells": [
    {
      "cell_type": "markdown",
      "metadata": {
        "cell_id": "e651654461c3474fb2b0d36de22a6c14",
        "deepnote_cell_height": 103.53334045410156,
        "deepnote_cell_type": "markdown",
        "id": "XUZ1dFPHzAHl"
      },
      "source": [
        "<h1><center>Laboratorio 8: Aprendizaje Supervisado 🔮</center></h1>\n",
        "\n",
        "<center><strong>MDS7202: Laboratorio de Programación Científica para Ciencia de Datos</strong></center>"
      ]
    },
    {
      "cell_type": "markdown",
      "metadata": {
        "cell_id": "7a6943958920482eb851e608d1efb6ac",
        "deepnote_cell_type": "markdown",
        "id": "UD8X1uhGzAHq"
      },
      "source": [
        "### Cuerpo Docente:\n",
        "\n",
        "- Profesor: Pablo Badilla y Ignacio Meza\n",
        "- Auxiliar: Sebastián Tinoco\n",
        "- Ayudante: Felipe Arias y Diego Cortez"
      ]
    },
    {
      "cell_type": "markdown",
      "metadata": {
        "cell_id": "0202c4ed94184a289e51ca5325b8afba",
        "deepnote_cell_height": 139.5,
        "deepnote_cell_type": "markdown",
        "id": "tXflExjqzAHr"
      },
      "source": [
        "### Equipo: SUPER IMPORTANTE - notebooks sin nombre no serán revisados\n",
        "\n",
        "- Nombre de alumno 1:Stefano Pinto\n",
        "- Nombre de alumno 2:Juan Chinchon\n"
      ]
    },
    {
      "cell_type": "markdown",
      "metadata": {
        "cell_id": "ce180f8cd3f3485fabbe6c0959a648db",
        "deepnote_cell_height": 61.28334045410156,
        "deepnote_cell_type": "markdown",
        "id": "AD-V0bbZzAHr"
      },
      "source": [
        "### **Link de repositorio de GitHub:** `http://....`"
      ]
    },
    {
      "cell_type": "markdown",
      "metadata": {
        "cell_id": "df3ab193db4a4f09ac25dbe605e3a83a",
        "deepnote_cell_height": 603.8499755859375,
        "deepnote_cell_type": "markdown",
        "id": "6uBLPj1PzAHs"
      },
      "source": [
        "## Temas a tratar\n",
        "\n",
        "- Aprendizaje Supervisado\n",
        "- Flujos de datos a través de `Pipelines`.\n",
        "\n",
        "## Reglas\n",
        "\n",
        "- **Grupos de 2 personas**\n",
        "- Asistencia **obligatoria** a instrucciones del lab (viernes 16.15). Luego, pueden quedarse trabajando en las salas o irse.\n",
        "- **No se revisarán entregas de personas ausentes**. \n",
        "- Cualquier duda fuera del horario de clases al foro. Mensajes al equipo docente serán respondidos por este medio.\n",
        "- Prohibidas las copias. \n",
        "- Pueden usar cualquer matrial del curso que estimen conveniente.\n",
        "\n",
        "## Objetivos principales del laboratorio\n",
        "\n",
        "- Comprender el funcionamiento de clasificadores/regresores.\n",
        "- Generar múltiples modelos predictivos.\n",
        "- Comprender las ventajas de crear modelos en pipeline vs hacer las operaciones a mano.\n",
        "\n",
        "El laboratorio deberá ser desarrollado sin el uso indiscriminado de iteradores nativos de python (aka \"for\", \"while\"). La idea es que aprendan a exprimir al máximo las funciones optimizadas que nos entrega `pandas`, las cuales vale mencionar, son bastante más eficientes que los iteradores nativos sobre `DataFrames`."
      ]
    },
    {
      "cell_type": "markdown",
      "metadata": {
        "cell_id": "ad2df18de2544420960174a3f424bc5c",
        "deepnote_cell_height": 61.133331298828125,
        "deepnote_cell_type": "markdown",
        "id": "MhISwri4zAHy"
      },
      "source": [
        "### Importamos librerias utiles 😸"
      ]
    },
    {
      "cell_type": "code",
      "execution_count": 1,
      "metadata": {
        "ExecuteTime": {
          "end_time": "2021-03-29T00:08:16.884674Z",
          "start_time": "2021-03-29T00:08:16.349846Z"
        },
        "cell_id": "c99537db269c4b04970732c3cccac0c9",
        "deepnote_cell_type": "code",
        "deepnote_to_be_reexecuted": false,
        "execution_millis": 7630,
        "execution_start": 1636741163382,
        "id": "uyc33dKdzAHy",
        "owner_user_id": "badcc427-fd3d-4615-9296-faa43ec69cfb",
        "source_hash": "cb3614e"
      },
      "outputs": [],
      "source": [
        "# Libreria Core del lab.\n",
        "import numpy as np\n",
        "import pandas as pd\n",
        "from sklearn.pipeline import Pipeline\n",
        "from sklearn.compose import ColumnTransformer\n",
        "from sklearn.model_selection import train_test_split \n",
        "\n",
        "# Pre-procesamiento\n",
        "from sklearn.preprocessing import MinMaxScaler\n",
        "from sklearn.preprocessing import StandardScaler\n",
        "from sklearn.preprocessing import FunctionTransformer\n",
        "from sklearn.preprocessing import PowerTransformer\n",
        "from sklearn.preprocessing import OneHotEncoder\n",
        "from sklearn.preprocessing import OrdinalEncoder\n",
        "from sklearn.tree import DecisionTreeClassifier\n",
        "\n",
        "# Metricas de evaluación\n",
        "from sklearn.metrics import classification_report\n",
        "from sklearn.metrics import accuracy_score\n",
        "from sklearn.metrics import f1_score\n",
        "from sklearn.metrics import cohen_kappa_score\n",
        "\n",
        "#Libreria para plotear\n",
        "#!pip install --upgrade plotly\n",
        "import plotly.express as px\n",
        "from plotly.subplots import make_subplots\n",
        "import plotly.graph_objects as go"
      ]
    },
    {
      "cell_type": "markdown",
      "metadata": {
        "cell_id": "3960faa7a101458896294c72b4b0758c",
        "deepnote_cell_height": 51.53334045410156,
        "deepnote_cell_type": "markdown",
        "id": "5FTGE74b3FBU"
      },
      "source": [
        "https://www.kaggle.com/antoinekrajnc/soccer-players-statistics"
      ]
    },
    {
      "cell_type": "markdown",
      "metadata": {
        "cell_id": "f9e9147f05744f749e29d4134157f1f3",
        "deepnote_cell_height": 305.933349609375,
        "deepnote_cell_type": "markdown",
        "id": "xpOTbQcxbSiy"
      },
      "source": [
        "# 1. Predicciones Futboleras\n",
        "\n",
        "<p align=\"center\">\n",
        "  <img src=\"https://drive.google.com/uc?export=view&id=1BnO4tyh3vM2P199Ec9s3JjngQ4qQ9seP\"\n",
        "\" width=\"300\">\n",
        "</p>\n",
        "\n",
        "\n",
        "Tras el trágico despido de la mítica mascota de Maipú, Renacín decide adentrarse como consultor en el mercado futbolero, el cuál (para variar...) está cargado en especulaciones. \n",
        "\n",
        "Como su principal tarea será asesorar a los directivos de los clubes sobre cuál jugador comprar y cuál no, Renacín desea generar modelos predictivos que evaluén distintas características de los jugadores; todo con el fin de tomar decisiones concretas basadas en los datos.\n",
        "\n",
        "Sin embargo, su condición de corporeo le impidió tomar la versión anterior de MDS7202, por lo que este motivo Renacín contrata a su equipo para lograr su objetivo final. Dado que aún tiene fuertes vínculos con la dirección de deportes de la municipalidad, el corporeo le entrega base de datos con las estadísticas de cada jugador para que su equipo empieze a trabajar ya con un dataset listo para ser usado.\n"
      ]
    },
    {
      "cell_type": "markdown",
      "metadata": {
        "cell_id": "5b831ae5e73547a1ae5f96b453f1ab2d",
        "deepnote_cell_height": 169.13333129882812,
        "deepnote_cell_type": "markdown",
        "id": "jnmZfFpxTTYX"
      },
      "source": [
        "**Los Datos**\n",
        "\n",
        "Para este laboratorio deberán trabajar con los csv `statsplayers.csv` y `salarios.pickle`, donde deberán aplicar algoritmos de de aprendizaje supervisado (clasificación y regresión) en base a características que describen de jugadores de futbol.\n",
        "\n",
        "Para comenzar cargue el dataset señalado y a continuación vea el reporte **`Player_Stats_Report.html`** (adjunto en la carpeta del enunciado) que describe las características principales del `DataFrame`."
      ]
    },
    {
      "cell_type": "code",
      "execution_count": 2,
      "metadata": {
        "cell_id": "9b9505acaf3f4906bbfc1950b04d9dca",
        "colab": {
          "base_uri": "https://localhost:8080/"
        },
        "deepnote_cell_type": "code",
        "deepnote_to_be_reexecuted": false,
        "execution_millis": 7,
        "execution_start": 1636741171022,
        "id": "Jqq-s010Iwl1",
        "outputId": "41f6248d-76a6-41c2-e9a1-a101d7598290",
        "source_hash": "c60dc4a7"
      },
      "outputs": [
        {
          "name": "stdout",
          "output_type": "stream",
          "text": [
            "Ignorando conexión drive-colab\n"
          ]
        }
      ],
      "source": [
        "# Si usted está utilizando Colabolatory le puede ser útil este código para cargar los archivos.\n",
        "try:\n",
        "    from google.colab import drive\n",
        "    drive.mount(\"/content/drive\")\n",
        "    path = 'Dirección donde tiene los archivos en el Drive'\n",
        "except: \n",
        "    print('Ignorando conexión drive-colab')"
      ]
    },
    {
      "cell_type": "code",
      "execution_count": 3,
      "metadata": {
        "cell_id": "bbd60dabcba44542826c491f69c1f53c",
        "colab": {
          "base_uri": "https://localhost:8080/",
          "height": 661
        },
        "deepnote_cell_type": "code",
        "deepnote_to_be_reexecuted": false,
        "execution_millis": 184,
        "execution_start": 1636742947300,
        "id": "bED3w3tDbSCf",
        "outputId": "31e86571-929e-4472-b5c4-bc63a263b3ce",
        "source_hash": "65944a94"
      },
      "outputs": [
        {
          "data": {
            "text/html": [
              "<div>\n",
              "<style scoped>\n",
              "    .dataframe tbody tr th:only-of-type {\n",
              "        vertical-align: middle;\n",
              "    }\n",
              "\n",
              "    .dataframe tbody tr th {\n",
              "        vertical-align: top;\n",
              "    }\n",
              "\n",
              "    .dataframe thead th {\n",
              "        text-align: right;\n",
              "    }\n",
              "</style>\n",
              "<table border=\"1\" class=\"dataframe\">\n",
              "  <thead>\n",
              "    <tr style=\"text-align: right;\">\n",
              "      <th></th>\n",
              "      <th>Name</th>\n",
              "      <th>Nationality</th>\n",
              "      <th>National_Position</th>\n",
              "      <th>Club_Position</th>\n",
              "      <th>Height</th>\n",
              "      <th>Weight</th>\n",
              "      <th>Preffered_Foot</th>\n",
              "      <th>Age</th>\n",
              "      <th>Work_Rate</th>\n",
              "      <th>Weak_foot</th>\n",
              "      <th>...</th>\n",
              "      <th>Agility</th>\n",
              "      <th>Jumping</th>\n",
              "      <th>Heading</th>\n",
              "      <th>Shot_Power</th>\n",
              "      <th>Finishing</th>\n",
              "      <th>Long_Shots</th>\n",
              "      <th>Curve</th>\n",
              "      <th>Freekick_Accuracy</th>\n",
              "      <th>Penalties</th>\n",
              "      <th>Volleys</th>\n",
              "    </tr>\n",
              "  </thead>\n",
              "  <tbody>\n",
              "    <tr>\n",
              "      <th>0</th>\n",
              "      <td>Cristiano Ronaldo</td>\n",
              "      <td>Portugal</td>\n",
              "      <td>LS</td>\n",
              "      <td>LW</td>\n",
              "      <td>185</td>\n",
              "      <td>80</td>\n",
              "      <td>Right</td>\n",
              "      <td>32</td>\n",
              "      <td>High / Low</td>\n",
              "      <td>4</td>\n",
              "      <td>...</td>\n",
              "      <td>90</td>\n",
              "      <td>95</td>\n",
              "      <td>85</td>\n",
              "      <td>92</td>\n",
              "      <td>93</td>\n",
              "      <td>90</td>\n",
              "      <td>81</td>\n",
              "      <td>76</td>\n",
              "      <td>85</td>\n",
              "      <td>88</td>\n",
              "    </tr>\n",
              "    <tr>\n",
              "      <th>1</th>\n",
              "      <td>Lionel Messi</td>\n",
              "      <td>Argentina</td>\n",
              "      <td>RW</td>\n",
              "      <td>RW</td>\n",
              "      <td>170</td>\n",
              "      <td>72</td>\n",
              "      <td>Left</td>\n",
              "      <td>29</td>\n",
              "      <td>Medium / Medium</td>\n",
              "      <td>4</td>\n",
              "      <td>...</td>\n",
              "      <td>90</td>\n",
              "      <td>68</td>\n",
              "      <td>71</td>\n",
              "      <td>85</td>\n",
              "      <td>95</td>\n",
              "      <td>88</td>\n",
              "      <td>89</td>\n",
              "      <td>90</td>\n",
              "      <td>74</td>\n",
              "      <td>85</td>\n",
              "    </tr>\n",
              "    <tr>\n",
              "      <th>2</th>\n",
              "      <td>Neymar</td>\n",
              "      <td>Brazil</td>\n",
              "      <td>LW</td>\n",
              "      <td>LW</td>\n",
              "      <td>174</td>\n",
              "      <td>68</td>\n",
              "      <td>Right</td>\n",
              "      <td>25</td>\n",
              "      <td>High / Medium</td>\n",
              "      <td>5</td>\n",
              "      <td>...</td>\n",
              "      <td>96</td>\n",
              "      <td>61</td>\n",
              "      <td>62</td>\n",
              "      <td>78</td>\n",
              "      <td>89</td>\n",
              "      <td>77</td>\n",
              "      <td>79</td>\n",
              "      <td>84</td>\n",
              "      <td>81</td>\n",
              "      <td>83</td>\n",
              "    </tr>\n",
              "    <tr>\n",
              "      <th>3</th>\n",
              "      <td>Luis Suárez</td>\n",
              "      <td>Uruguay</td>\n",
              "      <td>LS</td>\n",
              "      <td>ST</td>\n",
              "      <td>182</td>\n",
              "      <td>85</td>\n",
              "      <td>Right</td>\n",
              "      <td>30</td>\n",
              "      <td>High / Medium</td>\n",
              "      <td>4</td>\n",
              "      <td>...</td>\n",
              "      <td>86</td>\n",
              "      <td>69</td>\n",
              "      <td>77</td>\n",
              "      <td>87</td>\n",
              "      <td>94</td>\n",
              "      <td>86</td>\n",
              "      <td>86</td>\n",
              "      <td>84</td>\n",
              "      <td>85</td>\n",
              "      <td>88</td>\n",
              "    </tr>\n",
              "    <tr>\n",
              "      <th>4</th>\n",
              "      <td>Manuel Neuer</td>\n",
              "      <td>Germany</td>\n",
              "      <td>GK</td>\n",
              "      <td>GK</td>\n",
              "      <td>193</td>\n",
              "      <td>92</td>\n",
              "      <td>Right</td>\n",
              "      <td>31</td>\n",
              "      <td>Medium / Medium</td>\n",
              "      <td>4</td>\n",
              "      <td>...</td>\n",
              "      <td>52</td>\n",
              "      <td>78</td>\n",
              "      <td>25</td>\n",
              "      <td>25</td>\n",
              "      <td>13</td>\n",
              "      <td>16</td>\n",
              "      <td>14</td>\n",
              "      <td>11</td>\n",
              "      <td>47</td>\n",
              "      <td>11</td>\n",
              "    </tr>\n",
              "    <tr>\n",
              "      <th>...</th>\n",
              "      <td>...</td>\n",
              "      <td>...</td>\n",
              "      <td>...</td>\n",
              "      <td>...</td>\n",
              "      <td>...</td>\n",
              "      <td>...</td>\n",
              "      <td>...</td>\n",
              "      <td>...</td>\n",
              "      <td>...</td>\n",
              "      <td>...</td>\n",
              "      <td>...</td>\n",
              "      <td>...</td>\n",
              "      <td>...</td>\n",
              "      <td>...</td>\n",
              "      <td>...</td>\n",
              "      <td>...</td>\n",
              "      <td>...</td>\n",
              "      <td>...</td>\n",
              "      <td>...</td>\n",
              "      <td>...</td>\n",
              "      <td>...</td>\n",
              "    </tr>\n",
              "    <tr>\n",
              "      <th>17583</th>\n",
              "      <td>Adam Dunbar</td>\n",
              "      <td>Republic of Ireland</td>\n",
              "      <td>NaN</td>\n",
              "      <td>Sub</td>\n",
              "      <td>183</td>\n",
              "      <td>82</td>\n",
              "      <td>Right</td>\n",
              "      <td>19</td>\n",
              "      <td>Medium / Medium</td>\n",
              "      <td>1</td>\n",
              "      <td>...</td>\n",
              "      <td>27</td>\n",
              "      <td>56</td>\n",
              "      <td>14</td>\n",
              "      <td>16</td>\n",
              "      <td>13</td>\n",
              "      <td>13</td>\n",
              "      <td>11</td>\n",
              "      <td>13</td>\n",
              "      <td>15</td>\n",
              "      <td>12</td>\n",
              "    </tr>\n",
              "    <tr>\n",
              "      <th>17584</th>\n",
              "      <td>Dylan McGoey</td>\n",
              "      <td>Republic of Ireland</td>\n",
              "      <td>NaN</td>\n",
              "      <td>Sub</td>\n",
              "      <td>185</td>\n",
              "      <td>80</td>\n",
              "      <td>Right</td>\n",
              "      <td>19</td>\n",
              "      <td>Medium / Medium</td>\n",
              "      <td>2</td>\n",
              "      <td>...</td>\n",
              "      <td>28</td>\n",
              "      <td>53</td>\n",
              "      <td>12</td>\n",
              "      <td>17</td>\n",
              "      <td>12</td>\n",
              "      <td>11</td>\n",
              "      <td>12</td>\n",
              "      <td>13</td>\n",
              "      <td>16</td>\n",
              "      <td>12</td>\n",
              "    </tr>\n",
              "    <tr>\n",
              "      <th>17585</th>\n",
              "      <td>Tommy Ouldridge</td>\n",
              "      <td>England</td>\n",
              "      <td>NaN</td>\n",
              "      <td>Res</td>\n",
              "      <td>173</td>\n",
              "      <td>61</td>\n",
              "      <td>Right</td>\n",
              "      <td>18</td>\n",
              "      <td>High / Medium</td>\n",
              "      <td>2</td>\n",
              "      <td>...</td>\n",
              "      <td>54</td>\n",
              "      <td>61</td>\n",
              "      <td>41</td>\n",
              "      <td>44</td>\n",
              "      <td>28</td>\n",
              "      <td>42</td>\n",
              "      <td>35</td>\n",
              "      <td>36</td>\n",
              "      <td>42</td>\n",
              "      <td>37</td>\n",
              "    </tr>\n",
              "    <tr>\n",
              "      <th>17586</th>\n",
              "      <td>Mark Foden</td>\n",
              "      <td>Scotland</td>\n",
              "      <td>NaN</td>\n",
              "      <td>Sub</td>\n",
              "      <td>180</td>\n",
              "      <td>80</td>\n",
              "      <td>Right</td>\n",
              "      <td>21</td>\n",
              "      <td>Medium / Medium</td>\n",
              "      <td>3</td>\n",
              "      <td>...</td>\n",
              "      <td>34</td>\n",
              "      <td>48</td>\n",
              "      <td>15</td>\n",
              "      <td>23</td>\n",
              "      <td>14</td>\n",
              "      <td>12</td>\n",
              "      <td>13</td>\n",
              "      <td>12</td>\n",
              "      <td>24</td>\n",
              "      <td>12</td>\n",
              "    </tr>\n",
              "    <tr>\n",
              "      <th>17587</th>\n",
              "      <td>Barry Richardson</td>\n",
              "      <td>England</td>\n",
              "      <td>NaN</td>\n",
              "      <td>Sub</td>\n",
              "      <td>185</td>\n",
              "      <td>77</td>\n",
              "      <td>Right</td>\n",
              "      <td>47</td>\n",
              "      <td>Medium / Medium</td>\n",
              "      <td>2</td>\n",
              "      <td>...</td>\n",
              "      <td>38</td>\n",
              "      <td>51</td>\n",
              "      <td>12</td>\n",
              "      <td>13</td>\n",
              "      <td>11</td>\n",
              "      <td>16</td>\n",
              "      <td>12</td>\n",
              "      <td>11</td>\n",
              "      <td>22</td>\n",
              "      <td>12</td>\n",
              "    </tr>\n",
              "  </tbody>\n",
              "</table>\n",
              "<p>17588 rows × 39 columns</p>\n",
              "</div>"
            ],
            "text/plain": [
              "                    Name          Nationality National_Position Club_Position   \n",
              "0      Cristiano Ronaldo             Portugal                LS            LW  \\\n",
              "1           Lionel Messi            Argentina                RW            RW   \n",
              "2                 Neymar               Brazil                LW            LW   \n",
              "3            Luis Suárez              Uruguay                LS            ST   \n",
              "4           Manuel Neuer              Germany                GK            GK   \n",
              "...                  ...                  ...               ...           ...   \n",
              "17583        Adam Dunbar  Republic of Ireland               NaN           Sub   \n",
              "17584       Dylan McGoey  Republic of Ireland               NaN           Sub   \n",
              "17585    Tommy Ouldridge              England               NaN           Res   \n",
              "17586         Mark Foden             Scotland               NaN           Sub   \n",
              "17587   Barry Richardson              England               NaN           Sub   \n",
              "\n",
              "       Height  Weight Preffered_Foot  Age        Work_Rate  Weak_foot  ...   \n",
              "0         185      80          Right   32       High / Low          4  ...  \\\n",
              "1         170      72           Left   29  Medium / Medium          4  ...   \n",
              "2         174      68          Right   25    High / Medium          5  ...   \n",
              "3         182      85          Right   30    High / Medium          4  ...   \n",
              "4         193      92          Right   31  Medium / Medium          4  ...   \n",
              "...       ...     ...            ...  ...              ...        ...  ...   \n",
              "17583     183      82          Right   19  Medium / Medium          1  ...   \n",
              "17584     185      80          Right   19  Medium / Medium          2  ...   \n",
              "17585     173      61          Right   18    High / Medium          2  ...   \n",
              "17586     180      80          Right   21  Medium / Medium          3  ...   \n",
              "17587     185      77          Right   47  Medium / Medium          2  ...   \n",
              "\n",
              "       Agility  Jumping  Heading  Shot_Power  Finishing  Long_Shots  Curve   \n",
              "0           90       95       85          92         93          90     81  \\\n",
              "1           90       68       71          85         95          88     89   \n",
              "2           96       61       62          78         89          77     79   \n",
              "3           86       69       77          87         94          86     86   \n",
              "4           52       78       25          25         13          16     14   \n",
              "...        ...      ...      ...         ...        ...         ...    ...   \n",
              "17583       27       56       14          16         13          13     11   \n",
              "17584       28       53       12          17         12          11     12   \n",
              "17585       54       61       41          44         28          42     35   \n",
              "17586       34       48       15          23         14          12     13   \n",
              "17587       38       51       12          13         11          16     12   \n",
              "\n",
              "       Freekick_Accuracy  Penalties  Volleys  \n",
              "0                     76         85       88  \n",
              "1                     90         74       85  \n",
              "2                     84         81       83  \n",
              "3                     84         85       88  \n",
              "4                     11         47       11  \n",
              "...                  ...        ...      ...  \n",
              "17583                 13         15       12  \n",
              "17584                 13         16       12  \n",
              "17585                 36         42       37  \n",
              "17586                 12         24       12  \n",
              "17587                 11         22       12  \n",
              "\n",
              "[17588 rows x 39 columns]"
            ]
          },
          "execution_count": 3,
          "metadata": {},
          "output_type": "execute_result"
        }
      ],
      "source": [
        "df_players = pd.read_csv('stats_players.csv')\n",
        "df_players"
      ]
    },
    {
      "cell_type": "markdown",
      "metadata": {
        "cell_id": "9e9e7d5dbc2f420ba40afb038a3c7b37",
        "deepnote_cell_height": 169.93333435058594,
        "deepnote_cell_type": "markdown",
        "id": "2R3b7Qe501t5",
        "owner_user_id": "d50c3174-babb-4861-9c71-7e3af66458b8"
      },
      "source": [
        "## 1.1 Predicción de Seleccionados Nacionales \n",
        "\n",
        "Como primera tarea, Renacín, intrigado por la posibilidad de saber qué tan reconocido es un jugador, le consulta a su equipo si es posible predecir si un jugador será o no seleccionado nacional a partir de sus estadísticas en el juego. \n",
        "\n",
        "<p align=\"center\">\n",
        "  <img src=\"https://thumbs.gfycat.com/ThornyFrankFoxhound-size_restricted.gif\" width=\"500\">\n",
        "</p>"
      ]
    },
    {
      "cell_type": "markdown",
      "metadata": {
        "cell_id": "4fd0ec6793474c6e8dd304827ef35c74",
        "deepnote_cell_height": 158.3333282470703,
        "deepnote_cell_type": "markdown",
        "id": "PIe_Ha58pQRC"
      },
      "source": [
        "### 1.1.1 Generación de Labels para la Clasificación [Sin Puntaje]\n",
        "\n",
        "\n",
        "Primero comience generando las labels para la clasificación. Para esto, trabaje sobre el atributo ```National_Position``` suponiendo que los valores nulos son jugadores no seleccionados para representar a su país. \n",
        "\n",
        "Hecho esto, ¿Cuantos ejemplos por cada clase se tienen? Comente lo que observa.\n",
        "\n"
      ]
    },
    {
      "cell_type": "markdown",
      "metadata": {
        "cell_id": "4bafb6f1da424f84be4eceb20d100d91",
        "deepnote_cell_height": 51.53334045410156,
        "deepnote_cell_type": "markdown",
        "id": "FKBNCjWTPnny",
        "tags": []
      },
      "source": [
        "**Respuesta:**"
      ]
    },
    {
      "cell_type": "code",
      "execution_count": 4,
      "metadata": {
        "cell_id": "c95e6cb3ab91410fb2151acbdc068908",
        "colab": {
          "base_uri": "https://localhost:8080/"
        },
        "deepnote_cell_type": "code",
        "deepnote_to_be_reexecuted": false,
        "execution_millis": 3,
        "execution_start": 1636741171250,
        "id": "uwKaIuho4lqn",
        "outputId": "5f6b2928-9f5e-4f96-cb30-e2c8cd6bdcda",
        "source_hash": "43ce1981"
      },
      "outputs": [
        {
          "data": {
            "text/plain": [
              "Clasificado\n",
              "0    16513\n",
              "1     1075\n",
              "Name: count, dtype: int64"
            ]
          },
          "execution_count": 4,
          "metadata": {},
          "output_type": "execute_result"
        }
      ],
      "source": [
        "### Código aquí ###\n",
        "# crear columna clasificado, 1 si National_Position es diferente de NaN, 0 en caso contrario\n",
        "df_players['Clasificado'] = df_players['National_Position'].notnull().astype(int).astype('category')\n",
        "df_players['Clasificado'].value_counts()"
      ]
    },
    {
      "cell_type": "markdown",
      "metadata": {
        "cell_id": "882716f31dd4415983e3ed8e403ddcf0",
        "deepnote_cell_height": 678.1500244140625,
        "deepnote_cell_type": "markdown",
        "id": "0F70XPRFpWH9"
      },
      "source": [
        "### 1.1.2 Camino a la clasificación [1 punto]\n",
        "\n",
        "<p align=\"center\">\n",
        "  <img src=\"https://c.tenor.com/SoXZJHWnhKAAAAAC/pitbull-medel.gif\" width=\"500\">\n",
        "</p>\n",
        "\n",
        "Para preprocesar el dataset, genere un `ColumnTransformer` en donde especifique las transformaciones que hay que realizar para cada columna (por ejemplo StandarScaler, MinMaxScaler, OneHotEncoder, etc...) para que puedan ser utilizadas correctamente por el modelo predictivo y guardelo en algúna variable.\n",
        "\n",
        "Luego, comente y justifique las transformaciones elegidas sobre cada una de las variables (para esto utilice el material ```Player_Stats_Report.html``` que viene en el zip del lab), al igual que las transformaciones aplicadas.\n",
        "\n",
        "Hecho lo anterior, **defina al menos 3 pipelines para la clasificación**, en donde utilice el mismo ColumnTransformer definido anteriormente, pero que varie entre cada pipeline los clasificadores. \n",
        "\n",
        "Para seleccionar los clasificadores más adecuados, utilice la siguiente guía:\n",
        "\n",
        "<p align=\"center\">\n",
        "  <img src=\"https://scikit-learn.org/stable/_static/ml_map.png\" width=\"500\">\n",
        "</p>\n",
        "\n",
        "<br/>\n",
        "\n",
        "Con ella, comente y justifique cada una de las decisiones tomadas al momento de desarrollar su pipeline.\n",
        "\n",
        "**Nota:** Si tiene problemas al utilizar OneHotEncoder puede utilizar el parámetro handle_unknown='ignore'. Esto hace que en la codificación se omitan las categorias que no aparecen en el entrenamiento. Pregunta dudosa (no tiene puntaje), ¿esto tiene sentido a nivel de modelos?.\n",
        "\n",
        "**To-Do:**\n",
        "\n",
        "- [ ] Genere un ```ColumnTransformer``` enfocado en preprocesar los datos.\n",
        "- [ ] Indicar y Justificar que preprocesamiento utiliza sobre cada columna.\n",
        "- [ ] Crear 3 ``pipelines`` con diferentes clasificadores.\n",
        "- [ ] Para seleccionar los clasificadores base sus decisiones en la siguiente [guía](https://scikit-learn.org/stable/tutorial/machine_learning_map/index.html)\n",
        "- [ ] No entrenar los ``pipelines`` aún.\n",
        "\n",
        "**Nota:** No es necesario entrenar los clasificadores aún."
      ]
    },
    {
      "cell_type": "markdown",
      "metadata": {
        "cell_id": "494effcc7471436084ebd22e15296fb9",
        "deepnote_cell_height": 51.53334045410156,
        "deepnote_cell_type": "markdown",
        "id": "t3dSHJYBPnn1",
        "tags": []
      },
      "source": [
        "**Respuesta:**"
      ]
    },
    {
      "cell_type": "code",
      "execution_count": 5,
      "metadata": {
        "colab": {
          "base_uri": "https://localhost:8080/"
        },
        "id": "vh1Yk7V3Pnn1",
        "outputId": "a5ff2246-d6ec-41dc-8f45-a784b7415b7f"
      },
      "outputs": [
        {
          "data": {
            "text/plain": [
              "Name                   object\n",
              "Nationality            object\n",
              "National_Position      object\n",
              "Club_Position          object\n",
              "Height                  int64\n",
              "Weight                  int64\n",
              "Preffered_Foot         object\n",
              "Age                     int64\n",
              "Work_Rate              object\n",
              "Weak_foot               int64\n",
              "Skill_Moves             int64\n",
              "Ball_Control            int64\n",
              "Dribbling               int64\n",
              "Marking                 int64\n",
              "Sliding_Tackle          int64\n",
              "Standing_Tackle         int64\n",
              "Aggression              int64\n",
              "Reactions               int64\n",
              "Interceptions           int64\n",
              "Vision                  int64\n",
              "Composure               int64\n",
              "Crossing                int64\n",
              "Short_Pass              int64\n",
              "Long_Pass               int64\n",
              "Acceleration            int64\n",
              "Speed                   int64\n",
              "Stamina                 int64\n",
              "Strength                int64\n",
              "Balance                 int64\n",
              "Agility                 int64\n",
              "Jumping                 int64\n",
              "Heading                 int64\n",
              "Shot_Power              int64\n",
              "Finishing               int64\n",
              "Long_Shots              int64\n",
              "Curve                   int64\n",
              "Freekick_Accuracy       int64\n",
              "Penalties               int64\n",
              "Volleys                 int64\n",
              "Clasificado          category\n",
              "dtype: object"
            ]
          },
          "execution_count": 5,
          "metadata": {},
          "output_type": "execute_result"
        }
      ],
      "source": [
        "df_players.dtypes"
      ]
    },
    {
      "cell_type": "markdown",
      "metadata": {
        "id": "aqLBRuWJPnn2"
      },
      "source": [
        "Corregir los tipos de variables"
      ]
    },
    {
      "cell_type": "code",
      "execution_count": 6,
      "metadata": {
        "colab": {
          "base_uri": "https://localhost:8080/"
        },
        "id": "r5UYP4hjPnn2",
        "outputId": "bb362553-1444-4fb2-83b7-fc1e259cc4df"
      },
      "outputs": [
        {
          "name": "stdout",
          "output_type": "stream",
          "text": [
            "Numericas son 31 variables:  ['Height', 'Weight', 'Age', 'Ball_Control', 'Dribbling', 'Marking', 'Sliding_Tackle', 'Standing_Tackle', 'Aggression', 'Reactions', 'Interceptions', 'Vision', 'Composure', 'Crossing', 'Short_Pass', 'Long_Pass', 'Acceleration', 'Speed', 'Stamina', 'Strength', 'Balance', 'Agility', 'Jumping', 'Heading', 'Shot_Power', 'Finishing', 'Long_Shots', 'Curve', 'Freekick_Accuracy', 'Penalties', 'Volleys']\n",
            "Categoricas son 8 variables:  ['Name', 'Nationality', 'National_Position', 'Club_Position', 'Preffered_Foot', 'Work_Rate', 'Weak_foot', 'Skill_Moves']\n"
          ]
        }
      ],
      "source": [
        "# weak foot y skill moves son variables categoricas y no numéricas, como se observa en el Análisis Exploratorio, solo poseen 5 valores diferentes.\n",
        "# transformar a categoricas\n",
        "df_players['Weak_foot'] = df_players['Weak_foot'].astype('category')\n",
        "df_players['Skill_Moves'] = df_players['Skill_Moves'].astype('category')\n",
        "# además se transforman otras que son string, a categoricas\n",
        "df_players['Preffered_Foot'] = df_players['Preffered_Foot'].astype('category')\n",
        "df_players['Work_Rate'] = df_players['Work_Rate'].astype('category')\n",
        "\n",
        "categorical_features = df_players.select_dtypes(include=['object', 'category']).columns.tolist()\n",
        "\n",
        "#remover el target de las variables categoricas\n",
        "categorical_features.remove('Clasificado')\n",
        "numeric_features = df_players.select_dtypes(include=np.number).columns.tolist()\n",
        "\n",
        "print(f'Numericas son {len(numeric_features)} variables: ', numeric_features)\n",
        "print(f'Categoricas son {len(categorical_features)} variables: ', categorical_features)\n",
        "#print('Target: ', target)"
      ]
    },
    {
      "cell_type": "code",
      "execution_count": 7,
      "metadata": {
        "colab": {
          "base_uri": "https://localhost:8080/",
          "height": 69
        },
        "id": "DD1S2vNWPnn3",
        "outputId": "24053ee9-2f64-4c8f-eb6f-46c52bfb344d"
      },
      "outputs": [
        {
          "data": {
            "text/plain": [
              "Index(['High / High', 'High / Low', 'High / Medium', 'Low / High', 'Low / Low',\n",
              "       'Low / Medium', 'Medium / High', 'Medium / Low', 'Medium / Medium'],\n",
              "      dtype='object')"
            ]
          },
          "metadata": {},
          "output_type": "display_data"
        }
      ],
      "source": [
        "# Además la variable Work_Rate es de naturaleza ordinal\n",
        "\n",
        "display(df_players['Work_Rate'].cat.categories)\n",
        "# ordenar categorias\n",
        "df_players['Work_Rate'] = df_players['Work_Rate'].cat.reorder_categories(['Low / Low', 'Low / Medium', 'Low / High', 'Medium / Low', 'Medium / Medium', 'Medium / High', 'High / Low', 'High / Medium', 'High / High'], ordered=True)"
      ]
    },
    {
      "cell_type": "markdown",
      "metadata": {
        "id": "-PKnI1bNPnn3"
      },
      "source": [
        "Eliminar 1 nulo existente en la columna Club_Position"
      ]
    },
    {
      "cell_type": "code",
      "execution_count": 8,
      "metadata": {
        "id": "dFd3iRH1Pnn4"
      },
      "outputs": [],
      "source": [
        "df_players.dropna(subset=['Club_Position'], inplace=True)"
      ]
    },
    {
      "cell_type": "markdown",
      "metadata": {
        "id": "yphi2ouXPnn4"
      },
      "source": [
        "Definir estrategia de preprocesamiento"
      ]
    },
    {
      "cell_type": "markdown",
      "metadata": {
        "id": "OjySG1YyPnn5"
      },
      "source": [
        "`Del análisis exploratorio se observa que no existen outliers en las columnas numéricas y sus escalas no son muy diferentes, se optará un preprocesamiento simple, que consiste en escalar las variables numéricas mediante MinMaxScaler. Respecto a las variables categóricas (que incluye strings), se eliminará además la variable Nombre de las variables predictoras, dado que es de naturaleza identificadora y no aporta información relevante para el modelo. Además, se eliminará la variable National_Position, dado que es la variable que se quiere predecir, por lo que no tiene sentido que esté en el dataset de entrenamiento. (Dicho de otra forma, al momento de predecir un nuevo jugador, no se tendrá esta variable). Se utilizará un OneHotEncoder que codifique las variables categóricas en variables binarias. Por otra parte, se utilizará un OrdinalEncoder que trabaje la variable Work_Rate, dado que esta variable tiene un orden natural.`"
      ]
    },
    {
      "cell_type": "markdown",
      "metadata": {
        "id": "XItKOzIWPnn5"
      },
      "source": [
        "Crear el pipeline"
      ]
    },
    {
      "cell_type": "code",
      "execution_count": 9,
      "metadata": {
        "id": "QxPMfdSVPnn6"
      },
      "outputs": [],
      "source": [
        "from sklearn.svm import SVC\n",
        "from sklearn.ensemble import RandomForestClassifier\n",
        "from sklearn.neighbors import KNeighborsClassifier\n",
        "from sklearn.compose import make_column_selector\n",
        "\n",
        "# definir el column transformer:\n",
        "\n",
        "ct = ColumnTransformer(\n",
        "    transformers=[\n",
        "        ('Scaler', MinMaxScaler(), make_column_selector(dtype_include=np.number)),\n",
        "        ('One_hot', OneHotEncoder(handle_unknown='ignore'), make_column_selector(dtype_include=['category', 'object'],\n",
        "                                                                                                    pattern=\"[^(Name|National_Position|Work_Rate)]\")\n",
        "        ),\n",
        "        ('ordinal', OrdinalEncoder(), ['Work_Rate'])  \n",
        "    ],\n",
        "    remainder='drop'\n",
        ")\n",
        "\n",
        "# crear los 3 pipelines\n",
        "\n",
        "pipeline_svc_lineal = Pipeline(\n",
        "    steps=[\n",
        "        ('preprocessing', ct),\n",
        "        ('model', SVC(kernel='linear', random_state=42, class_weight='balanced'))\n",
        "])  \n",
        "\n",
        "pipeline_rf = Pipeline(\n",
        "    steps=[\n",
        "        ('preprocessing', ct),\n",
        "        ('model', RandomForestClassifier(random_state=42, class_weight='balanced'))\n",
        "])\n",
        "\n",
        "pipeline_knn = Pipeline(\n",
        "    steps=[\n",
        "        ('preprocessing', ct),\n",
        "        ('model', KNeighborsClassifier())\n",
        "])\n",
        "\n",
        "# #balanced random forest\n",
        "# from imblearn.ensemble import BalancedRandomForestClassifier\n",
        "# pipeline_rf_balanced = Pipeline(\n",
        "#     steps=[\n",
        "#         ('preprocessing', ct),\n",
        "#         ('model', BalancedRandomForestClassifier(random_state=42))\n",
        "# ])"
      ]
    },
    {
      "cell_type": "markdown",
      "metadata": {
        "id": "iTnqBiXkPnn7"
      },
      "source": [
        "`Según el esquema entregado: Dado que poseemos data etiquetada, y menos de 100k registros, se opta por modelos SVC lineales, seguidos de un clasificador KNN y modelos de ensambling, ya que no poseemos data de texto.`"
      ]
    },
    {
      "cell_type": "markdown",
      "metadata": {
        "cell_id": "b7fa6937d9a043fd93b7966fb0e81861",
        "deepnote_cell_height": 101.13333129882812,
        "deepnote_cell_type": "markdown",
        "id": "MpKq6oO3vCNL"
      },
      "source": [
        "### 1.1.3 Entrenemos los pipelines [1 punto]\n",
        "\n",
        "<p align=\"center\">\n",
        "  <img src=\"https://i.gifer.com/7Cc8.gif\" width=\"350\">\n",
        "</p>\n"
      ]
    },
    {
      "cell_type": "markdown",
      "metadata": {
        "cell_id": "5ead21d7e26d4e3da1486c9937f22968",
        "deepnote_cell_height": 454.433349609375,
        "deepnote_cell_type": "markdown",
        "id": "wE_1aZaIvOeN"
      },
      "source": [
        "Ahora, entrene los `pipeline` generados en los pasos anteriores. Para esto, primero separe los datos de entrenamiento en un conjunto de entrenamiento y de prueba  (la proporción queda a su juicio).\n",
        "\n",
        "En este paso, seleccione los ejemplos de forma aleatoria e intente mantener la distribución original de labels de cada clase en los conjuntos de prueba/entrenamiento. (vea la documentación de `train_test_split`).\n",
        "\n",
        "\n",
        "Luego, entrene los pipelines\n",
        "\n",
        "Una vez entrenado su modelo, evalue su rendimiento a través de diferentes métricas, comentando que significa cada uno de los valores obtenidos. Puede usar la función `classification_report` para corroborar sus resultados.\n",
        "\n",
        "- ¿Qué implican los valores de accuracy, precisión y recall de la clase positiva (la que indica que un jugador es seleccionado nacional)?\n",
        "- ¿Podrían mejorarse los resultados?, ¿Cómo?\n",
        "- ¿Influye la cantidad de ejemplos por clase?\n",
        "\n",
        "**To-Do**:\n",
        "\n",
        "- [ ] Separar el conjunto de datos en entrenamiento y de prueba.\n",
        "- [ ] Entrenar los `pipelines`.\n",
        "- [ ] Utilizar las métricas para evaluar los modelos generados.\n"
      ]
    },
    {
      "cell_type": "markdown",
      "metadata": {
        "cell_id": "053a95315e3245b39ba9d263d932e7d4",
        "deepnote_cell_height": 51.53334045410156,
        "deepnote_cell_type": "markdown",
        "id": "ASjg08o6Pnn8",
        "tags": []
      },
      "source": [
        "**Respuesta:**"
      ]
    },
    {
      "cell_type": "code",
      "execution_count": 10,
      "metadata": {
        "cell_id": "0148b8e4a7e24b838381dbee30b31758",
        "deepnote_cell_height": 65.13333129882812,
        "deepnote_cell_type": "code",
        "id": "gmt7sPY8Pnn9",
        "tags": []
      },
      "outputs": [],
      "source": [
        "### Código aquí ###\n",
        "#separar en train y test en razon 70/30, y estraificar por el target\n",
        "X = df_players.drop(['Clasificado'], axis=1)\n",
        "y = df_players['Clasificado']\n",
        "\n",
        "X_train, X_test, y_train, y_test = train_test_split(X, y, test_size=0.3, stratify=y, random_state=42)"
      ]
    },
    {
      "cell_type": "code",
      "execution_count": 11,
      "metadata": {
        "colab": {
          "base_uri": "https://localhost:8080/",
          "height": 190
        },
        "id": "Cik1Do8VPnn9",
        "outputId": "b2d8d487-cb32-4ee0-cc6f-b4fd915bb148"
      },
      "outputs": [
        {
          "data": {
            "text/html": [
              "<style>#sk-container-id-1 {color: black;background-color: white;}#sk-container-id-1 pre{padding: 0;}#sk-container-id-1 div.sk-toggleable {background-color: white;}#sk-container-id-1 label.sk-toggleable__label {cursor: pointer;display: block;width: 100%;margin-bottom: 0;padding: 0.3em;box-sizing: border-box;text-align: center;}#sk-container-id-1 label.sk-toggleable__label-arrow:before {content: \"▸\";float: left;margin-right: 0.25em;color: #696969;}#sk-container-id-1 label.sk-toggleable__label-arrow:hover:before {color: black;}#sk-container-id-1 div.sk-estimator:hover label.sk-toggleable__label-arrow:before {color: black;}#sk-container-id-1 div.sk-toggleable__content {max-height: 0;max-width: 0;overflow: hidden;text-align: left;background-color: #f0f8ff;}#sk-container-id-1 div.sk-toggleable__content pre {margin: 0.2em;color: black;border-radius: 0.25em;background-color: #f0f8ff;}#sk-container-id-1 input.sk-toggleable__control:checked~div.sk-toggleable__content {max-height: 200px;max-width: 100%;overflow: auto;}#sk-container-id-1 input.sk-toggleable__control:checked~label.sk-toggleable__label-arrow:before {content: \"▾\";}#sk-container-id-1 div.sk-estimator input.sk-toggleable__control:checked~label.sk-toggleable__label {background-color: #d4ebff;}#sk-container-id-1 div.sk-label input.sk-toggleable__control:checked~label.sk-toggleable__label {background-color: #d4ebff;}#sk-container-id-1 input.sk-hidden--visually {border: 0;clip: rect(1px 1px 1px 1px);clip: rect(1px, 1px, 1px, 1px);height: 1px;margin: -1px;overflow: hidden;padding: 0;position: absolute;width: 1px;}#sk-container-id-1 div.sk-estimator {font-family: monospace;background-color: #f0f8ff;border: 1px dotted black;border-radius: 0.25em;box-sizing: border-box;margin-bottom: 0.5em;}#sk-container-id-1 div.sk-estimator:hover {background-color: #d4ebff;}#sk-container-id-1 div.sk-parallel-item::after {content: \"\";width: 100%;border-bottom: 1px solid gray;flex-grow: 1;}#sk-container-id-1 div.sk-label:hover label.sk-toggleable__label {background-color: #d4ebff;}#sk-container-id-1 div.sk-serial::before {content: \"\";position: absolute;border-left: 1px solid gray;box-sizing: border-box;top: 0;bottom: 0;left: 50%;z-index: 0;}#sk-container-id-1 div.sk-serial {display: flex;flex-direction: column;align-items: center;background-color: white;padding-right: 0.2em;padding-left: 0.2em;position: relative;}#sk-container-id-1 div.sk-item {position: relative;z-index: 1;}#sk-container-id-1 div.sk-parallel {display: flex;align-items: stretch;justify-content: center;background-color: white;position: relative;}#sk-container-id-1 div.sk-item::before, #sk-container-id-1 div.sk-parallel-item::before {content: \"\";position: absolute;border-left: 1px solid gray;box-sizing: border-box;top: 0;bottom: 0;left: 50%;z-index: -1;}#sk-container-id-1 div.sk-parallel-item {display: flex;flex-direction: column;z-index: 1;position: relative;background-color: white;}#sk-container-id-1 div.sk-parallel-item:first-child::after {align-self: flex-end;width: 50%;}#sk-container-id-1 div.sk-parallel-item:last-child::after {align-self: flex-start;width: 50%;}#sk-container-id-1 div.sk-parallel-item:only-child::after {width: 0;}#sk-container-id-1 div.sk-dashed-wrapped {border: 1px dashed gray;margin: 0 0.4em 0.5em 0.4em;box-sizing: border-box;padding-bottom: 0.4em;background-color: white;}#sk-container-id-1 div.sk-label label {font-family: monospace;font-weight: bold;display: inline-block;line-height: 1.2em;}#sk-container-id-1 div.sk-label-container {text-align: center;}#sk-container-id-1 div.sk-container {/* jupyter's `normalize.less` sets `[hidden] { display: none; }` but bootstrap.min.css set `[hidden] { display: none !important; }` so we also need the `!important` here to be able to override the default hidden behavior on the sphinx rendered scikit-learn.org. See: https://github.com/scikit-learn/scikit-learn/issues/21755 */display: inline-block !important;position: relative;}#sk-container-id-1 div.sk-text-repr-fallback {display: none;}</style><div id=\"sk-container-id-1\" class=\"sk-top-container\"><div class=\"sk-text-repr-fallback\"><pre>Pipeline(steps=[(&#x27;preprocessing&#x27;,\n",
              "                 ColumnTransformer(transformers=[(&#x27;Scaler&#x27;, MinMaxScaler(),\n",
              "                                                  &lt;sklearn.compose._column_transformer.make_column_selector object at 0x000002287FF378B0&gt;),\n",
              "                                                 (&#x27;One_hot&#x27;,\n",
              "                                                  OneHotEncoder(handle_unknown=&#x27;ignore&#x27;),\n",
              "                                                  &lt;sklearn.compose._column_transformer.make_column_selector object at 0x000002286226FB20&gt;),\n",
              "                                                 (&#x27;ordinal&#x27;, OrdinalEncoder(),\n",
              "                                                  [&#x27;Work_Rate&#x27;])])),\n",
              "                (&#x27;model&#x27;, KNeighborsClassifier())])</pre><b>In a Jupyter environment, please rerun this cell to show the HTML representation or trust the notebook. <br />On GitHub, the HTML representation is unable to render, please try loading this page with nbviewer.org.</b></div><div class=\"sk-container\" hidden><div class=\"sk-item sk-dashed-wrapped\"><div class=\"sk-label-container\"><div class=\"sk-label sk-toggleable\"><input class=\"sk-toggleable__control sk-hidden--visually\" id=\"sk-estimator-id-1\" type=\"checkbox\" ><label for=\"sk-estimator-id-1\" class=\"sk-toggleable__label sk-toggleable__label-arrow\">Pipeline</label><div class=\"sk-toggleable__content\"><pre>Pipeline(steps=[(&#x27;preprocessing&#x27;,\n",
              "                 ColumnTransformer(transformers=[(&#x27;Scaler&#x27;, MinMaxScaler(),\n",
              "                                                  &lt;sklearn.compose._column_transformer.make_column_selector object at 0x000002287FF378B0&gt;),\n",
              "                                                 (&#x27;One_hot&#x27;,\n",
              "                                                  OneHotEncoder(handle_unknown=&#x27;ignore&#x27;),\n",
              "                                                  &lt;sklearn.compose._column_transformer.make_column_selector object at 0x000002286226FB20&gt;),\n",
              "                                                 (&#x27;ordinal&#x27;, OrdinalEncoder(),\n",
              "                                                  [&#x27;Work_Rate&#x27;])])),\n",
              "                (&#x27;model&#x27;, KNeighborsClassifier())])</pre></div></div></div><div class=\"sk-serial\"><div class=\"sk-item sk-dashed-wrapped\"><div class=\"sk-label-container\"><div class=\"sk-label sk-toggleable\"><input class=\"sk-toggleable__control sk-hidden--visually\" id=\"sk-estimator-id-2\" type=\"checkbox\" ><label for=\"sk-estimator-id-2\" class=\"sk-toggleable__label sk-toggleable__label-arrow\">preprocessing: ColumnTransformer</label><div class=\"sk-toggleable__content\"><pre>ColumnTransformer(transformers=[(&#x27;Scaler&#x27;, MinMaxScaler(),\n",
              "                                 &lt;sklearn.compose._column_transformer.make_column_selector object at 0x000002287FF378B0&gt;),\n",
              "                                (&#x27;One_hot&#x27;,\n",
              "                                 OneHotEncoder(handle_unknown=&#x27;ignore&#x27;),\n",
              "                                 &lt;sklearn.compose._column_transformer.make_column_selector object at 0x000002286226FB20&gt;),\n",
              "                                (&#x27;ordinal&#x27;, OrdinalEncoder(), [&#x27;Work_Rate&#x27;])])</pre></div></div></div><div class=\"sk-parallel\"><div class=\"sk-parallel-item\"><div class=\"sk-item\"><div class=\"sk-label-container\"><div class=\"sk-label sk-toggleable\"><input class=\"sk-toggleable__control sk-hidden--visually\" id=\"sk-estimator-id-3\" type=\"checkbox\" ><label for=\"sk-estimator-id-3\" class=\"sk-toggleable__label sk-toggleable__label-arrow\">Scaler</label><div class=\"sk-toggleable__content\"><pre>&lt;sklearn.compose._column_transformer.make_column_selector object at 0x000002287FF378B0&gt;</pre></div></div></div><div class=\"sk-serial\"><div class=\"sk-item\"><div class=\"sk-estimator sk-toggleable\"><input class=\"sk-toggleable__control sk-hidden--visually\" id=\"sk-estimator-id-4\" type=\"checkbox\" ><label for=\"sk-estimator-id-4\" class=\"sk-toggleable__label sk-toggleable__label-arrow\">MinMaxScaler</label><div class=\"sk-toggleable__content\"><pre>MinMaxScaler()</pre></div></div></div></div></div></div><div class=\"sk-parallel-item\"><div class=\"sk-item\"><div class=\"sk-label-container\"><div class=\"sk-label sk-toggleable\"><input class=\"sk-toggleable__control sk-hidden--visually\" id=\"sk-estimator-id-5\" type=\"checkbox\" ><label for=\"sk-estimator-id-5\" class=\"sk-toggleable__label sk-toggleable__label-arrow\">One_hot</label><div class=\"sk-toggleable__content\"><pre>&lt;sklearn.compose._column_transformer.make_column_selector object at 0x000002286226FB20&gt;</pre></div></div></div><div class=\"sk-serial\"><div class=\"sk-item\"><div class=\"sk-estimator sk-toggleable\"><input class=\"sk-toggleable__control sk-hidden--visually\" id=\"sk-estimator-id-6\" type=\"checkbox\" ><label for=\"sk-estimator-id-6\" class=\"sk-toggleable__label sk-toggleable__label-arrow\">OneHotEncoder</label><div class=\"sk-toggleable__content\"><pre>OneHotEncoder(handle_unknown=&#x27;ignore&#x27;)</pre></div></div></div></div></div></div><div class=\"sk-parallel-item\"><div class=\"sk-item\"><div class=\"sk-label-container\"><div class=\"sk-label sk-toggleable\"><input class=\"sk-toggleable__control sk-hidden--visually\" id=\"sk-estimator-id-7\" type=\"checkbox\" ><label for=\"sk-estimator-id-7\" class=\"sk-toggleable__label sk-toggleable__label-arrow\">ordinal</label><div class=\"sk-toggleable__content\"><pre>[&#x27;Work_Rate&#x27;]</pre></div></div></div><div class=\"sk-serial\"><div class=\"sk-item\"><div class=\"sk-estimator sk-toggleable\"><input class=\"sk-toggleable__control sk-hidden--visually\" id=\"sk-estimator-id-8\" type=\"checkbox\" ><label for=\"sk-estimator-id-8\" class=\"sk-toggleable__label sk-toggleable__label-arrow\">OrdinalEncoder</label><div class=\"sk-toggleable__content\"><pre>OrdinalEncoder()</pre></div></div></div></div></div></div></div></div><div class=\"sk-item\"><div class=\"sk-estimator sk-toggleable\"><input class=\"sk-toggleable__control sk-hidden--visually\" id=\"sk-estimator-id-9\" type=\"checkbox\" ><label for=\"sk-estimator-id-9\" class=\"sk-toggleable__label sk-toggleable__label-arrow\">KNeighborsClassifier</label><div class=\"sk-toggleable__content\"><pre>KNeighborsClassifier()</pre></div></div></div></div></div></div></div>"
            ],
            "text/plain": [
              "Pipeline(steps=[('preprocessing',\n",
              "                 ColumnTransformer(transformers=[('Scaler', MinMaxScaler(),\n",
              "                                                  <sklearn.compose._column_transformer.make_column_selector object at 0x000002287FF378B0>),\n",
              "                                                 ('One_hot',\n",
              "                                                  OneHotEncoder(handle_unknown='ignore'),\n",
              "                                                  <sklearn.compose._column_transformer.make_column_selector object at 0x000002286226FB20>),\n",
              "                                                 ('ordinal', OrdinalEncoder(),\n",
              "                                                  ['Work_Rate'])])),\n",
              "                ('model', KNeighborsClassifier())])"
            ]
          },
          "execution_count": 11,
          "metadata": {},
          "output_type": "execute_result"
        }
      ],
      "source": [
        "# entrenar modelos\n",
        "pipeline_svc_lineal.fit(X_train, y_train)\n",
        "pipeline_rf.fit(X_train, y_train)\n",
        "pipeline_knn.fit(X_train, y_train)"
      ]
    },
    {
      "cell_type": "code",
      "execution_count": 12,
      "metadata": {
        "colab": {
          "base_uri": "https://localhost:8080/"
        },
        "id": "0CEFj7_wPnn-",
        "outputId": "6c79476d-3d58-41f7-8459-ee4045366e64"
      },
      "outputs": [
        {
          "name": "stdout",
          "output_type": "stream",
          "text": [
            "SVC Lineal\n",
            "              precision    recall  f1-score   support\n",
            "\n",
            "           0       1.00      0.89      0.94      4954\n",
            "           1       0.36      0.94      0.52       323\n",
            "\n",
            "    accuracy                           0.89      5277\n",
            "   macro avg       0.68      0.91      0.73      5277\n",
            "weighted avg       0.96      0.89      0.91      5277\n",
            "\n",
            "Random Forest\n",
            "              precision    recall  f1-score   support\n",
            "\n",
            "           0       0.94      1.00      0.97      4954\n",
            "           1       0.88      0.02      0.04       323\n",
            "\n",
            "    accuracy                           0.94      5277\n",
            "   macro avg       0.91      0.51      0.51      5277\n",
            "weighted avg       0.94      0.94      0.91      5277\n",
            "\n",
            "KNN\n",
            "              precision    recall  f1-score   support\n",
            "\n",
            "           0       0.94      1.00      0.97      4954\n",
            "           1       0.50      0.06      0.10       323\n",
            "\n",
            "    accuracy                           0.94      5277\n",
            "   macro avg       0.72      0.53      0.53      5277\n",
            "weighted avg       0.91      0.94      0.92      5277\n",
            "\n"
          ]
        }
      ],
      "source": [
        "#reporte de metricas\n",
        "print('SVC Lineal')\n",
        "print(classification_report(y_test, pipeline_svc_lineal.predict(X_test)))\n",
        "print('Random Forest')\n",
        "print(classification_report(y_test, pipeline_rf.predict(X_test)))\n",
        "print('KNN')\n",
        "print(classification_report(y_test, pipeline_knn.predict(X_test)))\n"
      ]
    },
    {
      "cell_type": "markdown",
      "metadata": {
        "cell_id": "2e9c35fbe33d4a38bfdf6af6de3022f3",
        "deepnote_cell_height": 106.33332824707031,
        "deepnote_cell_type": "markdown",
        "id": "QgSeo0aIx9ow"
      },
      "source": [
        "**Respuesta**:\n",
        "\n",
        "```\n",
        "    1. \n",
        "        - El valor de accuracy no es un buen indicador del desempeño del modelo en este caso, dado que la cantidad de ejemplos por clase no es balanceada. Por lo tanto, se debe analizar el desempeño del modelo en cada clase por separado. En este caso, el modelo tiene un desempeño muy bueno en la clase negativa (no seleccionado), pero un desempeño malo en la clase positiva (seleccionado). De hecho, el modelo dummy que predice todas las muestras en clase negativa, alcanza un Accuracy de 0.94, solo superado por el modelo SVC Lineal (0.95).\n",
        "        - Para los 3 modelos se tiene una combinación de precisión más alta con recall muy bajo, el mejor f1-score lo alcanza el modelo SVC Lineal (Precision: 0.76, y Recall: 0.27), lo cual indica que de los jugadores que el modelo predice como seleccionados, el 76% lo es, pero solo logra detectar un 27% de los jugadores que realmente son seleccionados. Esto implica que el modelo rara vez genera un falso positivo, pero genera muchos falsos negativos, dicho de otra forma, el modelo produce pocas alarmas de que un jugador será Seleccionado Nacional, pero cuando lo hace, lo hace con alta precisión (76%).\n",
        "        \n",
        "    2. A priori, sí se podrían mejorar los resultados trabajando en más detalle el preprocesamiento, por ejemplo: \n",
        "        - Se nota que algunas variables poseen muchas categorías (alta cardinalidad), Como Club_Position (29) y específicamente la Nacionalidad (160) constituye un problema, en caso de ocupar OneHotEncoder se generará un aumento en la dimensionalidad del dataset (maldición de la dimensionalidad), lo cual dificultará al modelo encontrar patrones en los datos. Por lo tanto, se podría optar por reducir el número de categorías de forma de mantener las más frecuentes y agrupar las menos frecuentes en \"Otros\". \n",
        "        - Se detectaron en el análisis exploratorio pares de variables altamente correlacionadas (>0.9), lo cual implica redundancia en la información, por lo que se podría optar por eliminar una de las variables de cada par.\n",
        "        - Se podría probar con algoritmos de oversampling y undersampling para balancear la cantidad de ejemplos por clase.\n",
        "    \n",
        "    3. La cantidad de muestras, es decir el balance por clase sí afecta el desempeño, ya que el modelo se enfocará en las clases con mayor cantidad de ejemplos, que no es de nuestro interés. Un ejemplo, de cómo mejora el rendimiento es el siguiente: Se probó el modelo SVC Lineal asignandole pesos a sus clases de manera balanceada (de acuerdo a su frecuencia) con lo que se mejoro el f1 score de 0.4 a 0.52, a costa de disminuir el rendimiento en la clase negativa. Por otra parte, también se pueden utilizar algoritmos como BalancedRandomForest, que realiza undersampling a cada set boostrap.\n",
        "\n",
        "```"
      ]
    },
    {
      "cell_type": "markdown",
      "metadata": {
        "cell_id": "5aa0cc14dba04749ad3bc07a92d351d2",
        "deepnote_cell_type": "markdown",
        "id": "ix97Ho4uOARH"
      },
      "source": [
        "## 1.2 Predicción de posiciones de jugadores [2 puntos]\n",
        "\n",
        "<p align=\"center\">\n",
        "  <img src=\"https://pbs.twimg.com/media/E1rfA1aWEAYU6Ny.jpg\" width=\"500\">\n",
        "</p>"
      ]
    },
    {
      "cell_type": "markdown",
      "metadata": {
        "cell_id": "6cd2eee12b6147bc8eba66af43a1f1f7",
        "deepnote_cell_type": "markdown",
        "id": "oHAwZfV8hMsk"
      },
      "source": [
        "En una nueva jornada de desmesuradas transacciones deportivas, Renacín escuchó a sus colegas discutir acerca de que el precio de cada jugador depende en gran medida de la posición en la cancha en la que juega. Y además, que hay bastantes jugadores nuevos que no tienen muy claro en que posición verdaderamente brillarían, por lo que actualmente puede que actualmente estén jugando en posiciones sub-optimas. \n",
        "\n",
        "Viendo que los resultados del primer análisis no son tan esperanzadores, el corporeo los comanda a cambiar su tarea: ahora, les solicita que construyan un clasificador enfocado en predecir la mejor posición de los jugadores en la cancha según sus características. \n",
        "\n",
        "Para lograr esto, primero, les pide que etiqueten de la siguiente manera los valores que aparecen en el atributo ```Club_Position```, pidiendo que agrupen los valores en los siguientes grupos:\n",
        "\n",
        "**Nota**:  Renacín les recalca que **no deben utilizar los valores ```Sub``` y ```Res``` de esta columna**.\n",
        "\n",
        "```python\n",
        "ataque = ['ST', 'CF'] \n",
        "central_ataque = ['RW', 'CAM', 'LW'] \n",
        "central = ['RM', 'CM', 'LM'] \n",
        "central_defensa = ['RWB', 'CDM', 'LWB']\n",
        "defensa = ['RB', 'CB', 'LB']\n",
        "arquero = ['GK']\n",
        "```\n",
        "\n",
        "Cabe señalar que al igual como lo realizado con la clasificación binaria, deberá justificar en base a la [guía](https://scikit-learn.org/stable/tutorial/machine_learning_map/index.html) la elección del clasificador y se deben comentar los resultados obtenidos en la clasificación.\n",
        "\n",
        "**Nota:** Clasifique solamente con las clases señaladas, si observa mas clases eliminelas de la clasficación.\n",
        "\n",
        "**To-Do**:\n",
        "\n",
        "- [ ] Aplique las etiquetas descritas anteriormente en cada uno de los valores señalados en esta sección.\n",
        "- [ ] Cuente cuantos por clase quedan.\n",
        "- [ ] Entrene el nuevo pipeline y ejecute una evaluación de este.  \n",
        "- [ ] Comente los resultados obtenidos."
      ]
    },
    {
      "cell_type": "markdown",
      "metadata": {
        "cell_id": "71cd4b2ee5a74b96aa2dd4e1da166655",
        "deepnote_cell_type": "markdown",
        "id": "_Ld4hudbPnoB",
        "tags": []
      },
      "source": [
        "**Respuesta:**"
      ]
    },
    {
      "cell_type": "code",
      "execution_count": 13,
      "metadata": {
        "colab": {
          "base_uri": "https://localhost:8080/",
          "height": 386
        },
        "id": "g4EPrg4DPnoZ",
        "outputId": "0a0aa640-1875-4b70-9ce0-d52313a70dac"
      },
      "outputs": [
        {
          "data": {
            "text/html": [
              "<div>\n",
              "<style scoped>\n",
              "    .dataframe tbody tr th:only-of-type {\n",
              "        vertical-align: middle;\n",
              "    }\n",
              "\n",
              "    .dataframe tbody tr th {\n",
              "        vertical-align: top;\n",
              "    }\n",
              "\n",
              "    .dataframe thead th {\n",
              "        text-align: right;\n",
              "    }\n",
              "</style>\n",
              "<table border=\"1\" class=\"dataframe\">\n",
              "  <thead>\n",
              "    <tr style=\"text-align: right;\">\n",
              "      <th></th>\n",
              "      <th>Name</th>\n",
              "      <th>Nationality</th>\n",
              "      <th>National_Position</th>\n",
              "      <th>Club_Position</th>\n",
              "      <th>Height</th>\n",
              "      <th>Weight</th>\n",
              "      <th>Preffered_Foot</th>\n",
              "      <th>Age</th>\n",
              "      <th>Work_Rate</th>\n",
              "      <th>Weak_foot</th>\n",
              "      <th>...</th>\n",
              "      <th>Agility</th>\n",
              "      <th>Jumping</th>\n",
              "      <th>Heading</th>\n",
              "      <th>Shot_Power</th>\n",
              "      <th>Finishing</th>\n",
              "      <th>Long_Shots</th>\n",
              "      <th>Curve</th>\n",
              "      <th>Freekick_Accuracy</th>\n",
              "      <th>Penalties</th>\n",
              "      <th>Volleys</th>\n",
              "    </tr>\n",
              "  </thead>\n",
              "  <tbody>\n",
              "    <tr>\n",
              "      <th>0</th>\n",
              "      <td>Cristiano Ronaldo</td>\n",
              "      <td>Portugal</td>\n",
              "      <td>LS</td>\n",
              "      <td>LW</td>\n",
              "      <td>185</td>\n",
              "      <td>80</td>\n",
              "      <td>Right</td>\n",
              "      <td>32</td>\n",
              "      <td>High / Low</td>\n",
              "      <td>4</td>\n",
              "      <td>...</td>\n",
              "      <td>90</td>\n",
              "      <td>95</td>\n",
              "      <td>85</td>\n",
              "      <td>92</td>\n",
              "      <td>93</td>\n",
              "      <td>90</td>\n",
              "      <td>81</td>\n",
              "      <td>76</td>\n",
              "      <td>85</td>\n",
              "      <td>88</td>\n",
              "    </tr>\n",
              "    <tr>\n",
              "      <th>1</th>\n",
              "      <td>Lionel Messi</td>\n",
              "      <td>Argentina</td>\n",
              "      <td>RW</td>\n",
              "      <td>RW</td>\n",
              "      <td>170</td>\n",
              "      <td>72</td>\n",
              "      <td>Left</td>\n",
              "      <td>29</td>\n",
              "      <td>Medium / Medium</td>\n",
              "      <td>4</td>\n",
              "      <td>...</td>\n",
              "      <td>90</td>\n",
              "      <td>68</td>\n",
              "      <td>71</td>\n",
              "      <td>85</td>\n",
              "      <td>95</td>\n",
              "      <td>88</td>\n",
              "      <td>89</td>\n",
              "      <td>90</td>\n",
              "      <td>74</td>\n",
              "      <td>85</td>\n",
              "    </tr>\n",
              "    <tr>\n",
              "      <th>2</th>\n",
              "      <td>Neymar</td>\n",
              "      <td>Brazil</td>\n",
              "      <td>LW</td>\n",
              "      <td>LW</td>\n",
              "      <td>174</td>\n",
              "      <td>68</td>\n",
              "      <td>Right</td>\n",
              "      <td>25</td>\n",
              "      <td>High / Medium</td>\n",
              "      <td>5</td>\n",
              "      <td>...</td>\n",
              "      <td>96</td>\n",
              "      <td>61</td>\n",
              "      <td>62</td>\n",
              "      <td>78</td>\n",
              "      <td>89</td>\n",
              "      <td>77</td>\n",
              "      <td>79</td>\n",
              "      <td>84</td>\n",
              "      <td>81</td>\n",
              "      <td>83</td>\n",
              "    </tr>\n",
              "    <tr>\n",
              "      <th>3</th>\n",
              "      <td>Luis Suárez</td>\n",
              "      <td>Uruguay</td>\n",
              "      <td>LS</td>\n",
              "      <td>ST</td>\n",
              "      <td>182</td>\n",
              "      <td>85</td>\n",
              "      <td>Right</td>\n",
              "      <td>30</td>\n",
              "      <td>High / Medium</td>\n",
              "      <td>4</td>\n",
              "      <td>...</td>\n",
              "      <td>86</td>\n",
              "      <td>69</td>\n",
              "      <td>77</td>\n",
              "      <td>87</td>\n",
              "      <td>94</td>\n",
              "      <td>86</td>\n",
              "      <td>86</td>\n",
              "      <td>84</td>\n",
              "      <td>85</td>\n",
              "      <td>88</td>\n",
              "    </tr>\n",
              "    <tr>\n",
              "      <th>4</th>\n",
              "      <td>Manuel Neuer</td>\n",
              "      <td>Germany</td>\n",
              "      <td>GK</td>\n",
              "      <td>GK</td>\n",
              "      <td>193</td>\n",
              "      <td>92</td>\n",
              "      <td>Right</td>\n",
              "      <td>31</td>\n",
              "      <td>Medium / Medium</td>\n",
              "      <td>4</td>\n",
              "      <td>...</td>\n",
              "      <td>52</td>\n",
              "      <td>78</td>\n",
              "      <td>25</td>\n",
              "      <td>25</td>\n",
              "      <td>13</td>\n",
              "      <td>16</td>\n",
              "      <td>14</td>\n",
              "      <td>11</td>\n",
              "      <td>47</td>\n",
              "      <td>11</td>\n",
              "    </tr>\n",
              "  </tbody>\n",
              "</table>\n",
              "<p>5 rows × 39 columns</p>\n",
              "</div>"
            ],
            "text/plain": [
              "                Name Nationality National_Position Club_Position  Height   \n",
              "0  Cristiano Ronaldo    Portugal                LS            LW     185  \\\n",
              "1       Lionel Messi   Argentina                RW            RW     170   \n",
              "2             Neymar      Brazil                LW            LW     174   \n",
              "3        Luis Suárez     Uruguay                LS            ST     182   \n",
              "4       Manuel Neuer     Germany                GK            GK     193   \n",
              "\n",
              "   Weight Preffered_Foot  Age        Work_Rate  Weak_foot  ...  Agility   \n",
              "0      80          Right   32       High / Low          4  ...       90  \\\n",
              "1      72           Left   29  Medium / Medium          4  ...       90   \n",
              "2      68          Right   25    High / Medium          5  ...       96   \n",
              "3      85          Right   30    High / Medium          4  ...       86   \n",
              "4      92          Right   31  Medium / Medium          4  ...       52   \n",
              "\n",
              "   Jumping  Heading  Shot_Power  Finishing  Long_Shots  Curve   \n",
              "0       95       85          92         93          90     81  \\\n",
              "1       68       71          85         95          88     89   \n",
              "2       61       62          78         89          77     79   \n",
              "3       69       77          87         94          86     86   \n",
              "4       78       25          25         13          16     14   \n",
              "\n",
              "   Freekick_Accuracy  Penalties  Volleys  \n",
              "0                 76         85       88  \n",
              "1                 90         74       85  \n",
              "2                 84         81       83  \n",
              "3                 84         85       88  \n",
              "4                 11         47       11  \n",
              "\n",
              "[5 rows x 39 columns]"
            ]
          },
          "execution_count": 13,
          "metadata": {},
          "output_type": "execute_result"
        }
      ],
      "source": [
        "df_players = pd.read_csv('stats_players.csv')\n",
        "df_players.head()"
      ]
    },
    {
      "cell_type": "code",
      "execution_count": 14,
      "metadata": {
        "cell_id": "e54c0311c11e47cf917f4c7ec61370bc",
        "colab": {
          "base_uri": "https://localhost:8080/"
        },
        "deepnote_cell_type": "code",
        "id": "z8y8NuLbPnoa",
        "outputId": "96dc550c-66f4-48bd-9125-64ca1f66b849",
        "tags": []
      },
      "outputs": [
        {
          "data": {
            "text/plain": [
              "Club_Position\n",
              "None               13649\n",
              "defensa             1180\n",
              "central              907\n",
              "arquero              632\n",
              "central_ataque       581\n",
              "ataque               430\n",
              "central_defensa      209\n",
              "Name: count, dtype: int64"
            ]
          },
          "execution_count": 14,
          "metadata": {},
          "output_type": "execute_result"
        }
      ],
      "source": [
        "#definir función de mapeo\n",
        "def mapear_posicion(posicion):\n",
        "\n",
        "    diccionario_posiciones = {\n",
        "    'ataque': ['ST', 'CF'],\n",
        "    'central_ataque': ['RW', 'CAM', 'LW'],\n",
        "    'central': ['RM', 'CM', 'LM'] ,\n",
        "    'central_defensa': ['RWB', 'CDM', 'LWB'],\n",
        "    'defensa': ['RB', 'CB', 'LB'],\n",
        "    'arquero': ['GK']\n",
        "    }\n",
        "    for key, value in diccionario_posiciones.items():\n",
        "        if posicion in value:\n",
        "            return key\n",
        "\n",
        "df_players['Club_Position'] = df_players['Club_Position'].map(mapear_posicion)\n",
        "df_players['Club_Position'].value_counts(dropna=False)"
      ]
    },
    {
      "cell_type": "markdown",
      "metadata": {
        "id": "OAAklcCSPnob"
      },
      "source": [
        "Existen 13649 registros sin clasificación de posición: estos serán eliminados"
      ]
    },
    {
      "cell_type": "code",
      "execution_count": 15,
      "metadata": {
        "colab": {
          "base_uri": "https://localhost:8080/"
        },
        "id": "16POMmr4Pnoc",
        "outputId": "9bbcd731-13fa-4bb8-bdaa-b5a29a835d35"
      },
      "outputs": [
        {
          "name": "stdout",
          "output_type": "stream",
          "text": [
            "Quedan 3939 jugadores\n"
          ]
        }
      ],
      "source": [
        "df_players.dropna(subset=['Club_Position'], inplace=True)\n",
        "print(\"Quedan {} jugadores\".format(df_players.shape[0]))"
      ]
    },
    {
      "cell_type": "code",
      "execution_count": 16,
      "metadata": {
        "id": "rP_szai8Pnod"
      },
      "outputs": [],
      "source": [
        "# transformar a categoricas las variables\n",
        "df_players['Weak_foot'] = df_players['Weak_foot'].astype('category')\n",
        "df_players['Skill_Moves'] = df_players['Skill_Moves'].astype('category')\n",
        "df_players['Preffered_Foot'] = df_players['Preffered_Foot'].astype('category')\n",
        "df_players['Work_Rate'] = df_players['Work_Rate'].astype('category')\n",
        "# ordenar las categorias de Work_Rate por ser variable ordinal\n",
        "df_players['Work_Rate'] = df_players['Work_Rate'].cat.reorder_categories(['Low / Low', 'Low / Medium', 'Low / High', 'Medium / Low', 'Medium / Medium', 'Medium / High', 'High / Low', 'High / Medium', 'High / High'], ordered=True)"
      ]
    },
    {
      "cell_type": "code",
      "execution_count": 17,
      "metadata": {
        "colab": {
          "base_uri": "https://localhost:8080/"
        },
        "id": "ePlynAYTPnod",
        "outputId": "f3836769-2dcc-4a0b-a880-0052660e9d00"
      },
      "outputs": [
        {
          "name": "stdout",
          "output_type": "stream",
          "text": [
            "Variables numéricas: Index(['Height', 'Weight', 'Age', 'Ball_Control', 'Dribbling', 'Marking',\n",
            "       'Sliding_Tackle', 'Standing_Tackle', 'Aggression', 'Reactions',\n",
            "       'Interceptions', 'Vision', 'Composure', 'Crossing', 'Short_Pass',\n",
            "       'Long_Pass', 'Acceleration', 'Speed', 'Stamina', 'Strength', 'Balance',\n",
            "       'Agility', 'Jumping', 'Heading', 'Shot_Power', 'Finishing',\n",
            "       'Long_Shots', 'Curve', 'Freekick_Accuracy', 'Penalties', 'Volleys'],\n",
            "      dtype='object')\n",
            "Variables categóricas: Index(['Name', 'Nationality', 'National_Position', 'Club_Position',\n",
            "       'Preffered_Foot', 'Work_Rate', 'Weak_foot', 'Skill_Moves'],\n",
            "      dtype='object')\n"
          ]
        }
      ],
      "source": [
        "#definir tipos de variables\n",
        "numeric_features = df_players.select_dtypes(include=[np.number]).columns\n",
        "categorical_features = df_players.select_dtypes(include=['category', 'object']).columns\n",
        "\n",
        "print(\"Variables numéricas: {}\".format(numeric_features))\n",
        "print(\"Variables categóricas: {}\".format(categorical_features))"
      ]
    },
    {
      "cell_type": "code",
      "execution_count": 18,
      "metadata": {
        "colab": {
          "base_uri": "https://localhost:8080/"
        },
        "id": "HekUwZgWPnof",
        "outputId": "c8713b27-06a9-4d06-8c6a-ba140ec50538"
      },
      "outputs": [
        {
          "data": {
            "text/plain": [
              "Name                    0\n",
              "Nationality             0\n",
              "National_Position    3573\n",
              "Club_Position           0\n",
              "Height                  0\n",
              "Weight                  0\n",
              "Preffered_Foot          0\n",
              "Age                     0\n",
              "Work_Rate               0\n",
              "Weak_foot               0\n",
              "Skill_Moves             0\n",
              "Ball_Control            0\n",
              "Dribbling               0\n",
              "Marking                 0\n",
              "Sliding_Tackle          0\n",
              "Standing_Tackle         0\n",
              "Aggression              0\n",
              "Reactions               0\n",
              "Interceptions           0\n",
              "Vision                  0\n",
              "Composure               0\n",
              "Crossing                0\n",
              "Short_Pass              0\n",
              "Long_Pass               0\n",
              "Acceleration            0\n",
              "Speed                   0\n",
              "Stamina                 0\n",
              "Strength                0\n",
              "Balance                 0\n",
              "Agility                 0\n",
              "Jumping                 0\n",
              "Heading                 0\n",
              "Shot_Power              0\n",
              "Finishing               0\n",
              "Long_Shots              0\n",
              "Curve                   0\n",
              "Freekick_Accuracy       0\n",
              "Penalties               0\n",
              "Volleys                 0\n",
              "dtype: int64"
            ]
          },
          "execution_count": 18,
          "metadata": {},
          "output_type": "execute_result"
        }
      ],
      "source": [
        "df_players.isnull().sum()"
      ]
    },
    {
      "cell_type": "code",
      "execution_count": 19,
      "metadata": {
        "id": "eNnFJaENPnof"
      },
      "outputs": [],
      "source": [
        "#separar en train y test\n",
        "X = df_players.drop(['Club_Position'], axis=1)\n",
        "y = df_players['Club_Position']\n",
        "\n",
        "X_train, X_test, y_train, y_test = train_test_split(X, y, test_size=0.3, stratify=y, random_state=42)"
      ]
    },
    {
      "cell_type": "code",
      "execution_count": 20,
      "metadata": {
        "id": "QmNZM3_uPnog"
      },
      "outputs": [],
      "source": [
        "# definir el column transformer:\n",
        "\n",
        "ct = ColumnTransformer(\n",
        "    transformers=[\n",
        "        ('Scaler', MinMaxScaler(), make_column_selector(dtype_include=np.number)),\n",
        "        ('One_hot', OneHotEncoder(handle_unknown='ignore'), make_column_selector(dtype_include=['category', 'object'],\n",
        "                                                                                                    pattern=\"[^(Name|Work_Rate)]\")\n",
        "        ),\n",
        "        ('ordinal', OrdinalEncoder(), ['Work_Rate'])  \n",
        "    ],\n",
        "    remainder='drop'\n",
        ")\n",
        "\n",
        "# crear los 3 pipelines\n",
        "\n",
        "pipeline_svc_lineal = Pipeline(\n",
        "    steps=[\n",
        "        ('preprocessing', ct),\n",
        "        ('model', SVC(kernel='linear', random_state=42))\n",
        "])  \n",
        "\n",
        "pipeline_rf = Pipeline(\n",
        "    steps=[\n",
        "        ('preprocessing', ct),\n",
        "        ('model', RandomForestClassifier(random_state=42))\n",
        "])\n",
        "\n",
        "pipeline_knn = Pipeline(\n",
        "    steps=[\n",
        "        ('preprocessing', ct),\n",
        "        ('model', KNeighborsClassifier())\n",
        "])"
      ]
    },
    {
      "cell_type": "code",
      "execution_count": 21,
      "metadata": {
        "colab": {
          "base_uri": "https://localhost:8080/"
        },
        "id": "GzKwHsFKPnoh",
        "outputId": "66fb3de4-42d9-4b73-dbbe-ce08cc048a74"
      },
      "outputs": [
        {
          "name": "stdout",
          "output_type": "stream",
          "text": [
            "SVC Lineal\n",
            "                 precision    recall  f1-score   support\n",
            "\n",
            "        arquero       1.00      1.00      1.00       190\n",
            "         ataque       0.75      0.83      0.79       129\n",
            "        central       0.58      0.59      0.59       272\n",
            " central_ataque       0.47      0.37      0.42       174\n",
            "central_defensa       0.32      0.13      0.18        63\n",
            "        defensa       0.83      0.96      0.89       354\n",
            "\n",
            "       accuracy                           0.74      1182\n",
            "      macro avg       0.66      0.65      0.64      1182\n",
            "   weighted avg       0.71      0.74      0.72      1182\n",
            "\n",
            "Random Forest\n",
            "                 precision    recall  f1-score   support\n",
            "\n",
            "        arquero       1.00      1.00      1.00       190\n",
            "         ataque       0.76      0.88      0.81       129\n",
            "        central       0.57      0.62      0.59       272\n",
            " central_ataque       0.46      0.28      0.35       174\n",
            "central_defensa       0.58      0.11      0.19        63\n",
            "        defensa       0.80      0.97      0.88       354\n",
            "\n",
            "       accuracy                           0.74      1182\n",
            "      macro avg       0.70      0.64      0.64      1182\n",
            "   weighted avg       0.71      0.74      0.71      1182\n",
            "\n"
          ]
        }
      ],
      "source": [
        "# entrenar modelos\n",
        "pipeline_svc_lineal.fit(X_train, y_train)\n",
        "pipeline_rf.fit(X_train, y_train)\n",
        "pipeline_knn.fit(X_train, y_train)\n",
        "\n",
        "#reporte de metricas\n",
        "print('SVC Lineal')\n",
        "print(classification_report(y_test, pipeline_svc_lineal.predict(X_test)))\n",
        "print('Random Forest')\n",
        "print(classification_report(y_test, pipeline_rf.predict(X_test)))"
      ]
    },
    {
      "cell_type": "code",
      "execution_count": 22,
      "metadata": {
        "id": "0yDBVAPVPnoi",
        "outputId": "60f56581-3d0c-4aff-ed3a-3cd0ca3d03e6"
      },
      "outputs": [
        {
          "name": "stdout",
          "output_type": "stream",
          "text": [
            "KNN\n",
            "                 precision    recall  f1-score   support\n",
            "\n",
            "        arquero       1.00      1.00      1.00       190\n",
            "         ataque       0.53      0.58      0.55       129\n",
            "        central       0.43      0.47      0.45       272\n",
            " central_ataque       0.32      0.21      0.26       174\n",
            "central_defensa       0.29      0.16      0.21        63\n",
            "        defensa       0.72      0.81      0.77       354\n",
            "\n",
            "       accuracy                           0.62      1182\n",
            "      macro avg       0.55      0.54      0.54      1182\n",
            "   weighted avg       0.60      0.62      0.60      1182\n",
            "\n"
          ]
        }
      ],
      "source": [
        "print('KNN')\n",
        "print(classification_report(y_test, pipeline_knn.predict(X_test)))"
      ]
    },
    {
      "cell_type": "markdown",
      "metadata": {
        "cell_id": "bea1283d202545a7a1008e29ee53e044",
        "deepnote_cell_type": "markdown",
        "id": "l_l2b9tyPnoj",
        "tags": []
      },
      "source": [
        "**Respuesta**:\n",
        "\n",
        "```\n",
        "En este caso tanto Random Forest como SVC Lineal poseen desempeños comparables según el Accuracy. Esta vez el accuracy si es un buen indicador del desempeño del modelo, dado que la cantidad de ejemplos por clase está mejor balanceada que el caso anterior. A pesar de esto, el peor desempeño es sin sorpresa, la clase que posee la menor cantidad de ejemplares (central_defensa; F1-score:0.18); mientras que la clase Arquero logra ser correctamente predecida en el 100% de los casos. Mejorar los desempeños implicaría a priori mejorar la Accuracy del clasificador multiclase, lo cual se puede lograr ajustando los hiperparámetros de los modelos y haciendo ingeniería de atributos. En el caso que se busque predecir con mayor exactitud cierta clase de jugadores, se podrían efectuar técnicas de balanceo que mejoren ciertas clases a costa de otras, especialmente aquellas con menores registros.\n",
        "```"
      ]
    },
    {
      "cell_type": "markdown",
      "metadata": {
        "cell_id": "f8008fda06be4d8ab7564d7362151a14",
        "deepnote_cell_type": "markdown",
        "id": "C-vkB4xoOGtM"
      },
      "source": [
        "## 1.3 Predicción de Sueldos [2 puntos]\n",
        "\n",
        "<p align=\"center\">\n",
        "  <img src=\"https://media.giphy.com/media/3oEjHWtHAFcOKS4iA0/giphy.gif\" width=\"460\">\n",
        "</p>"
      ]
    },
    {
      "cell_type": "markdown",
      "metadata": {
        "cell_id": "598c8a91d80c412091470f396af54b5f",
        "deepnote_cell_type": "markdown",
        "id": "inzM41TPPnok",
        "tags": []
      },
      "source": [
        "Queriendo ahondar aún más en el mercado del balompíe, Renacin, logra obtener (de una manera no muy formal) los sueldos de múltiples futbolistas y los guarda en el archivo ```sueldos.csv```. Con ellos les solicita que generen un regresor que les permita predecir el sueldo de los futbolistas en base a las características de los pichichis, esto, debido a su motivación por invertir y/o realizar especulación sobre los sueldos de jugadores.\n",
        "\n",
        "Renacin es claro señalando que deben seguir utilizando la [guía](https://scikit-learn.org/stable/tutorial/machine_learning_map/index.html) y comenten cada uno de los pasos realizados, para obtener su regresión lineal. Señalándoles que no aceptara un $R^2$ inferior a 0.35 para el modelo solicitado.\n",
        "\n",
        "Para esta parte usted tiene total libertad en la generación del regresor, la unica exigencia es que utilice un pipeline para generar la regresión y utilice la metrica $R^2$ para medir el rendimiento de esta.\n",
        "\n",
        "**To-Do**:\n",
        "\n",
        "- [ ] Explique en que consiste la métrica $R^2$\n",
        "- [ ] Generar un pipeline para la regresión.\n",
        "- [ ] Obtener un regresor con un $R^2$ superior a  $0.35$.\n",
        "- [ ] Comente sus resultados y si es posible mejorar los resultados obtenidos. ¿Se necesitarían más datos o otros tipos de características o una combinación de ambos?"
      ]
    },
    {
      "cell_type": "markdown",
      "metadata": {
        "cell_id": "5ce70aab37cb4924b1543eeab84e7de4",
        "deepnote_cell_type": "markdown",
        "id": "RbgbYKKwPnol",
        "tags": []
      },
      "source": [
        "**Respuesta**"
      ]
    },
    {
      "cell_type": "markdown",
      "metadata": {
        "cell_id": "bb39f9e88bf04d639ea5d67732450be6",
        "deepnote_cell_type": "markdown",
        "id": "Gf9mmqH3DgUM",
        "tags": []
      },
      "source": [
        "**Re.**:\n",
        "\n",
        "\n",
        "El métrica $R^2$ es una medida estadistica llamada coeficiente de determinación que se obtiene para representar la proporción de varianza de los valores predichos respecto a los valores reales.\n",
        "\n",
        "Se calcula como el cuadrado de los coeficientes de correlación entre la variable dependiente e independiente a traves de la siguiente formula matemática.\n",
        "\n",
        "$$R^2 (y, \\hat{y}) = 1 - \\frac{\\sum_{i=1}^{n} (y_i - \\hat{y_i})^2}{\\sum_{i=1}^n (y_i - \\bar{y})^2}$$\n",
        "\n",
        "El puntaje obtenido de la ecuación varía entre 0 y 1 y permite indicar que tan bien se ajusta el modelo a los datos. Donde el valor 0 significa que el modelo no se ajusta a los datos y hay poca relación entre variables, por otro lado, el valor 1 explica que se ajusta bien además de que la variabilidad de las variables dependiente puede ser explicada por el modelo.\n"
      ]
    },
    {
      "cell_type": "code",
      "execution_count": 23,
      "metadata": {
        "id": "8qwsSDO8HkA9"
      },
      "outputs": [],
      "source": [
        "#Se realizan las cargas de los dataset\n",
        "df_players = pd.read_csv('stats_players.csv')\n",
        "#df_players.head()"
      ]
    },
    {
      "cell_type": "code",
      "execution_count": 24,
      "metadata": {
        "cell_id": "96e8db5c5a7044b79966da981618c807",
        "deepnote_cell_type": "code",
        "id": "1B4MmC6jPnoo",
        "tags": []
      },
      "outputs": [],
      "source": [
        "df_salarios = pd.read_csv('salarios.csv')\n",
        "#df_salarios.head()"
      ]
    },
    {
      "cell_type": "code",
      "execution_count": 25,
      "metadata": {
        "colab": {
          "base_uri": "https://localhost:8080/",
          "height": 374
        },
        "id": "CIdmKn18CZtt",
        "outputId": "d8d5d8bc-d0ad-460e-9e01-350e8cdd6470"
      },
      "outputs": [
        {
          "data": {
            "text/html": [
              "<div>\n",
              "<style scoped>\n",
              "    .dataframe tbody tr th:only-of-type {\n",
              "        vertical-align: middle;\n",
              "    }\n",
              "\n",
              "    .dataframe tbody tr th {\n",
              "        vertical-align: top;\n",
              "    }\n",
              "\n",
              "    .dataframe thead th {\n",
              "        text-align: right;\n",
              "    }\n",
              "</style>\n",
              "<table border=\"1\" class=\"dataframe\">\n",
              "  <thead>\n",
              "    <tr style=\"text-align: right;\">\n",
              "      <th></th>\n",
              "      <th>Name</th>\n",
              "      <th>Nationality</th>\n",
              "      <th>National_Position</th>\n",
              "      <th>Club_Position</th>\n",
              "      <th>Height</th>\n",
              "      <th>Weight</th>\n",
              "      <th>Preffered_Foot</th>\n",
              "      <th>Age</th>\n",
              "      <th>Work_Rate</th>\n",
              "      <th>Weak_foot</th>\n",
              "      <th>...</th>\n",
              "      <th>Jumping</th>\n",
              "      <th>Heading</th>\n",
              "      <th>Shot_Power</th>\n",
              "      <th>Finishing</th>\n",
              "      <th>Long_Shots</th>\n",
              "      <th>Curve</th>\n",
              "      <th>Freekick_Accuracy</th>\n",
              "      <th>Penalties</th>\n",
              "      <th>Volleys</th>\n",
              "      <th>Weekly Salary</th>\n",
              "    </tr>\n",
              "  </thead>\n",
              "  <tbody>\n",
              "    <tr>\n",
              "      <th>0</th>\n",
              "      <td>Cristiano Ronaldo</td>\n",
              "      <td>Portugal</td>\n",
              "      <td>LS</td>\n",
              "      <td>LW</td>\n",
              "      <td>185</td>\n",
              "      <td>80</td>\n",
              "      <td>Right</td>\n",
              "      <td>32</td>\n",
              "      <td>High / Low</td>\n",
              "      <td>4</td>\n",
              "      <td>...</td>\n",
              "      <td>95</td>\n",
              "      <td>85</td>\n",
              "      <td>92</td>\n",
              "      <td>93</td>\n",
              "      <td>90</td>\n",
              "      <td>81</td>\n",
              "      <td>76</td>\n",
              "      <td>85</td>\n",
              "      <td>88</td>\n",
              "      <td>1248536.0</td>\n",
              "    </tr>\n",
              "    <tr>\n",
              "      <th>1</th>\n",
              "      <td>Lionel Messi</td>\n",
              "      <td>Argentina</td>\n",
              "      <td>RW</td>\n",
              "      <td>RW</td>\n",
              "      <td>170</td>\n",
              "      <td>72</td>\n",
              "      <td>Left</td>\n",
              "      <td>29</td>\n",
              "      <td>Medium / Medium</td>\n",
              "      <td>4</td>\n",
              "      <td>...</td>\n",
              "      <td>68</td>\n",
              "      <td>71</td>\n",
              "      <td>85</td>\n",
              "      <td>95</td>\n",
              "      <td>88</td>\n",
              "      <td>89</td>\n",
              "      <td>90</td>\n",
              "      <td>74</td>\n",
              "      <td>85</td>\n",
              "      <td>1538905.0</td>\n",
              "    </tr>\n",
              "    <tr>\n",
              "      <th>2</th>\n",
              "      <td>Neymar</td>\n",
              "      <td>Brazil</td>\n",
              "      <td>LW</td>\n",
              "      <td>LW</td>\n",
              "      <td>174</td>\n",
              "      <td>68</td>\n",
              "      <td>Right</td>\n",
              "      <td>25</td>\n",
              "      <td>High / Medium</td>\n",
              "      <td>5</td>\n",
              "      <td>...</td>\n",
              "      <td>61</td>\n",
              "      <td>62</td>\n",
              "      <td>78</td>\n",
              "      <td>89</td>\n",
              "      <td>77</td>\n",
              "      <td>79</td>\n",
              "      <td>84</td>\n",
              "      <td>81</td>\n",
              "      <td>83</td>\n",
              "      <td>797726.0</td>\n",
              "    </tr>\n",
              "    <tr>\n",
              "      <th>3</th>\n",
              "      <td>Luis Suárez</td>\n",
              "      <td>Uruguay</td>\n",
              "      <td>LS</td>\n",
              "      <td>ST</td>\n",
              "      <td>182</td>\n",
              "      <td>85</td>\n",
              "      <td>Right</td>\n",
              "      <td>30</td>\n",
              "      <td>High / Medium</td>\n",
              "      <td>4</td>\n",
              "      <td>...</td>\n",
              "      <td>69</td>\n",
              "      <td>77</td>\n",
              "      <td>87</td>\n",
              "      <td>94</td>\n",
              "      <td>86</td>\n",
              "      <td>86</td>\n",
              "      <td>84</td>\n",
              "      <td>85</td>\n",
              "      <td>88</td>\n",
              "      <td>508923.0</td>\n",
              "    </tr>\n",
              "    <tr>\n",
              "      <th>4</th>\n",
              "      <td>Manuel Neuer</td>\n",
              "      <td>Germany</td>\n",
              "      <td>GK</td>\n",
              "      <td>GK</td>\n",
              "      <td>193</td>\n",
              "      <td>92</td>\n",
              "      <td>Right</td>\n",
              "      <td>31</td>\n",
              "      <td>Medium / Medium</td>\n",
              "      <td>4</td>\n",
              "      <td>...</td>\n",
              "      <td>78</td>\n",
              "      <td>25</td>\n",
              "      <td>25</td>\n",
              "      <td>13</td>\n",
              "      <td>16</td>\n",
              "      <td>14</td>\n",
              "      <td>11</td>\n",
              "      <td>47</td>\n",
              "      <td>11</td>\n",
              "      <td>326233.0</td>\n",
              "    </tr>\n",
              "  </tbody>\n",
              "</table>\n",
              "<p>5 rows × 40 columns</p>\n",
              "</div>"
            ],
            "text/plain": [
              "                Name Nationality National_Position Club_Position  Height   \n",
              "0  Cristiano Ronaldo    Portugal                LS            LW     185  \\\n",
              "1       Lionel Messi   Argentina                RW            RW     170   \n",
              "2             Neymar      Brazil                LW            LW     174   \n",
              "3        Luis Suárez     Uruguay                LS            ST     182   \n",
              "4       Manuel Neuer     Germany                GK            GK     193   \n",
              "\n",
              "   Weight Preffered_Foot  Age        Work_Rate  Weak_foot  ...  Jumping   \n",
              "0      80          Right   32       High / Low          4  ...       95  \\\n",
              "1      72           Left   29  Medium / Medium          4  ...       68   \n",
              "2      68          Right   25    High / Medium          5  ...       61   \n",
              "3      85          Right   30    High / Medium          4  ...       69   \n",
              "4      92          Right   31  Medium / Medium          4  ...       78   \n",
              "\n",
              "   Heading  Shot_Power  Finishing  Long_Shots  Curve  Freekick_Accuracy   \n",
              "0       85          92         93          90     81                 76  \\\n",
              "1       71          85         95          88     89                 90   \n",
              "2       62          78         89          77     79                 84   \n",
              "3       77          87         94          86     86                 84   \n",
              "4       25          25         13          16     14                 11   \n",
              "\n",
              "   Penalties  Volleys  Weekly Salary  \n",
              "0         85       88      1248536.0  \n",
              "1         74       85      1538905.0  \n",
              "2         81       83       797726.0  \n",
              "3         85       88       508923.0  \n",
              "4         47       11       326233.0  \n",
              "\n",
              "[5 rows x 40 columns]"
            ]
          },
          "execution_count": 25,
          "metadata": {},
          "output_type": "execute_result"
        }
      ],
      "source": [
        "#Se realiza un merge entre ambos de acuerdo a los nomnbres de los jugadores\n",
        "df=pd.merge(df_players,df_salarios, left_on='Name', right_on='Player',how='inner')\n",
        "df=df.drop(['Unnamed: 0', 'Player'], axis=1)\n",
        "df.head()"
      ]
    },
    {
      "cell_type": "code",
      "execution_count": 26,
      "metadata": {
        "colab": {
          "base_uri": "https://localhost:8080/"
        },
        "id": "Ju2zb88b4DeC",
        "outputId": "3b6a328e-13aa-48f7-abd0-8a6c845071eb"
      },
      "outputs": [
        {
          "name": "stdout",
          "output_type": "stream",
          "text": [
            "(17588, 39)\n",
            "(2534, 3)\n",
            "(1866, 40)\n"
          ]
        }
      ],
      "source": [
        "print(df_players.shape)\n",
        "print(df_salarios.shape)\n",
        "print(df.shape)"
      ]
    },
    {
      "cell_type": "code",
      "execution_count": 27,
      "metadata": {
        "colab": {
          "base_uri": "https://localhost:8080/"
        },
        "id": "71qB5NyQ3kIv",
        "outputId": "bb4c6d60-5c93-49a8-e660-b259674150ee"
      },
      "outputs": [
        {
          "data": {
            "text/plain": [
              "Club_Position\n",
              "None               1288\n",
              "defensa             178\n",
              "central             116\n",
              "arquero              95\n",
              "central_ataque       79\n",
              "ataque               72\n",
              "central_defensa      38\n",
              "Name: count, dtype: int64"
            ]
          },
          "execution_count": 27,
          "metadata": {},
          "output_type": "execute_result"
        }
      ],
      "source": [
        "#Se aplica la diferenciación de posición realizada en la parte anterior\n",
        "df['Club_Position'] = df['Club_Position'].map(mapear_posicion)\n",
        "df['Club_Position'].value_counts(dropna=False)"
      ]
    },
    {
      "cell_type": "code",
      "execution_count": 28,
      "metadata": {
        "id": "-J7jki0gkQTg"
      },
      "outputs": [],
      "source": [
        "# Se realizan transformaciones de variables\n",
        "df['Weak_foot'] = df['Weak_foot'].astype('category')\n",
        "df['Skill_Moves'] = df['Skill_Moves'].astype('category')\n",
        "df['Preffered_Foot'] = df['Preffered_Foot'].astype('category')\n",
        "df['Work_Rate'] = df['Work_Rate'].astype('category')\n",
        "df['Work_Rate'] = df['Work_Rate'].cat.reorder_categories(['Low / Low', 'Low / Medium', 'Low / High', 'Medium / Low', 'Medium / Medium', 'Medium / High', 'High / Low', 'High / Medium', 'High / High'], ordered=True)\n",
        "\n",
        "numeric_features = df.drop('Weekly Salary',axis=1).select_dtypes(include=[np.number]).columns\n",
        "categorical_features = df.drop('Name',axis=1).select_dtypes(include=['category', 'object']).columns\n"
      ]
    },
    {
      "cell_type": "code",
      "execution_count": 29,
      "metadata": {
        "colab": {
          "base_uri": "https://localhost:8080/"
        },
        "id": "NcuM1s3-kQTn",
        "outputId": "66d7dd11-8d6d-4cfe-f9e7-02fd28ba96a8"
      },
      "outputs": [
        {
          "name": "stdout",
          "output_type": "stream",
          "text": [
            "Variables numéricas: Index(['Height', 'Weight', 'Age', 'Ball_Control', 'Dribbling', 'Marking',\n",
            "       'Sliding_Tackle', 'Standing_Tackle', 'Aggression', 'Reactions',\n",
            "       'Interceptions', 'Vision', 'Composure', 'Crossing', 'Short_Pass',\n",
            "       'Long_Pass', 'Acceleration', 'Speed', 'Stamina', 'Strength', 'Balance',\n",
            "       'Agility', 'Jumping', 'Heading', 'Shot_Power', 'Finishing',\n",
            "       'Long_Shots', 'Curve', 'Freekick_Accuracy', 'Penalties', 'Volleys'],\n",
            "      dtype='object')\n",
            "Variables categóricas: Index(['Nationality', 'National_Position', 'Club_Position', 'Preffered_Foot',\n",
            "       'Work_Rate', 'Weak_foot', 'Skill_Moves'],\n",
            "      dtype='object')\n"
          ]
        }
      ],
      "source": [
        "print(\"Variables numéricas: {}\".format(numeric_features))\n",
        "print(\"Variables categóricas: {}\".format(categorical_features))"
      ]
    },
    {
      "cell_type": "code",
      "execution_count": 30,
      "metadata": {
        "id": "faHFXgwACZrJ"
      },
      "outputs": [],
      "source": [
        "#Train y Test\n",
        "features=df.drop(columns=['Name','Weekly Salary'])\n",
        "target=df['Weekly Salary']\n",
        "\n",
        "X_train, X_test, y_train, y_test  = train_test_split(features, target, test_size=0.2, shuffle=True, random_state=33)"
      ]
    },
    {
      "cell_type": "code",
      "execution_count": 31,
      "metadata": {
        "colab": {
          "base_uri": "https://localhost:8080/",
          "height": 322
        },
        "id": "KiKlB8Q684bV",
        "outputId": "be5cdcca-c13a-4b82-f0a6-300c3372c969"
      },
      "outputs": [
        {
          "data": {
            "text/html": [
              "<div>\n",
              "<style scoped>\n",
              "    .dataframe tbody tr th:only-of-type {\n",
              "        vertical-align: middle;\n",
              "    }\n",
              "\n",
              "    .dataframe tbody tr th {\n",
              "        vertical-align: top;\n",
              "    }\n",
              "\n",
              "    .dataframe thead th {\n",
              "        text-align: right;\n",
              "    }\n",
              "</style>\n",
              "<table border=\"1\" class=\"dataframe\">\n",
              "  <thead>\n",
              "    <tr style=\"text-align: right;\">\n",
              "      <th></th>\n",
              "      <th>Nationality</th>\n",
              "      <th>National_Position</th>\n",
              "      <th>Club_Position</th>\n",
              "      <th>Height</th>\n",
              "      <th>Weight</th>\n",
              "      <th>Preffered_Foot</th>\n",
              "      <th>Age</th>\n",
              "      <th>Work_Rate</th>\n",
              "      <th>Weak_foot</th>\n",
              "      <th>Skill_Moves</th>\n",
              "      <th>...</th>\n",
              "      <th>Agility</th>\n",
              "      <th>Jumping</th>\n",
              "      <th>Heading</th>\n",
              "      <th>Shot_Power</th>\n",
              "      <th>Finishing</th>\n",
              "      <th>Long_Shots</th>\n",
              "      <th>Curve</th>\n",
              "      <th>Freekick_Accuracy</th>\n",
              "      <th>Penalties</th>\n",
              "      <th>Volleys</th>\n",
              "    </tr>\n",
              "  </thead>\n",
              "  <tbody>\n",
              "    <tr>\n",
              "      <th>46</th>\n",
              "      <td>Belgium</td>\n",
              "      <td>Sub</td>\n",
              "      <td>None</td>\n",
              "      <td>176</td>\n",
              "      <td>65</td>\n",
              "      <td>Right</td>\n",
              "      <td>28</td>\n",
              "      <td>High / High</td>\n",
              "      <td>3</td>\n",
              "      <td>3</td>\n",
              "      <td>...</td>\n",
              "      <td>81</td>\n",
              "      <td>76</td>\n",
              "      <td>59</td>\n",
              "      <td>84</td>\n",
              "      <td>76</td>\n",
              "      <td>86</td>\n",
              "      <td>73</td>\n",
              "      <td>68</td>\n",
              "      <td>63</td>\n",
              "      <td>75</td>\n",
              "    </tr>\n",
              "    <tr>\n",
              "      <th>203</th>\n",
              "      <td>France</td>\n",
              "      <td>Sub</td>\n",
              "      <td>arquero</td>\n",
              "      <td>188</td>\n",
              "      <td>86</td>\n",
              "      <td>Right</td>\n",
              "      <td>29</td>\n",
              "      <td>Medium / Medium</td>\n",
              "      <td>3</td>\n",
              "      <td>1</td>\n",
              "      <td>...</td>\n",
              "      <td>38</td>\n",
              "      <td>49</td>\n",
              "      <td>15</td>\n",
              "      <td>22</td>\n",
              "      <td>14</td>\n",
              "      <td>15</td>\n",
              "      <td>12</td>\n",
              "      <td>11</td>\n",
              "      <td>15</td>\n",
              "      <td>12</td>\n",
              "    </tr>\n",
              "    <tr>\n",
              "      <th>1692</th>\n",
              "      <td>England</td>\n",
              "      <td>NaN</td>\n",
              "      <td>None</td>\n",
              "      <td>178</td>\n",
              "      <td>64</td>\n",
              "      <td>Right</td>\n",
              "      <td>19</td>\n",
              "      <td>Medium / High</td>\n",
              "      <td>3</td>\n",
              "      <td>3</td>\n",
              "      <td>...</td>\n",
              "      <td>66</td>\n",
              "      <td>61</td>\n",
              "      <td>61</td>\n",
              "      <td>70</td>\n",
              "      <td>35</td>\n",
              "      <td>38</td>\n",
              "      <td>45</td>\n",
              "      <td>48</td>\n",
              "      <td>51</td>\n",
              "      <td>42</td>\n",
              "    </tr>\n",
              "    <tr>\n",
              "      <th>533</th>\n",
              "      <td>England</td>\n",
              "      <td>NaN</td>\n",
              "      <td>None</td>\n",
              "      <td>180</td>\n",
              "      <td>76</td>\n",
              "      <td>Right</td>\n",
              "      <td>29</td>\n",
              "      <td>High / High</td>\n",
              "      <td>3</td>\n",
              "      <td>3</td>\n",
              "      <td>...</td>\n",
              "      <td>66</td>\n",
              "      <td>59</td>\n",
              "      <td>62</td>\n",
              "      <td>74</td>\n",
              "      <td>61</td>\n",
              "      <td>68</td>\n",
              "      <td>71</td>\n",
              "      <td>67</td>\n",
              "      <td>88</td>\n",
              "      <td>69</td>\n",
              "    </tr>\n",
              "    <tr>\n",
              "      <th>372</th>\n",
              "      <td>Germany</td>\n",
              "      <td>NaN</td>\n",
              "      <td>central_ataque</td>\n",
              "      <td>184</td>\n",
              "      <td>74</td>\n",
              "      <td>Left</td>\n",
              "      <td>22</td>\n",
              "      <td>High / Medium</td>\n",
              "      <td>3</td>\n",
              "      <td>3</td>\n",
              "      <td>...</td>\n",
              "      <td>75</td>\n",
              "      <td>52</td>\n",
              "      <td>54</td>\n",
              "      <td>86</td>\n",
              "      <td>77</td>\n",
              "      <td>88</td>\n",
              "      <td>73</td>\n",
              "      <td>59</td>\n",
              "      <td>59</td>\n",
              "      <td>86</td>\n",
              "    </tr>\n",
              "  </tbody>\n",
              "</table>\n",
              "<p>5 rows × 38 columns</p>\n",
              "</div>"
            ],
            "text/plain": [
              "     Nationality National_Position   Club_Position  Height  Weight   \n",
              "46       Belgium               Sub            None     176      65  \\\n",
              "203       France               Sub         arquero     188      86   \n",
              "1692     England               NaN            None     178      64   \n",
              "533      England               NaN            None     180      76   \n",
              "372      Germany               NaN  central_ataque     184      74   \n",
              "\n",
              "     Preffered_Foot  Age        Work_Rate Weak_foot Skill_Moves  ...  Agility   \n",
              "46            Right   28      High / High         3           3  ...       81  \\\n",
              "203           Right   29  Medium / Medium         3           1  ...       38   \n",
              "1692          Right   19    Medium / High         3           3  ...       66   \n",
              "533           Right   29      High / High         3           3  ...       66   \n",
              "372            Left   22    High / Medium         3           3  ...       75   \n",
              "\n",
              "      Jumping  Heading  Shot_Power  Finishing  Long_Shots  Curve   \n",
              "46         76       59          84         76          86     73  \\\n",
              "203        49       15          22         14          15     12   \n",
              "1692       61       61          70         35          38     45   \n",
              "533        59       62          74         61          68     71   \n",
              "372        52       54          86         77          88     73   \n",
              "\n",
              "      Freekick_Accuracy  Penalties  Volleys  \n",
              "46                   68         63       75  \n",
              "203                  11         15       12  \n",
              "1692                 48         51       42  \n",
              "533                  67         88       69  \n",
              "372                  59         59       86  \n",
              "\n",
              "[5 rows x 38 columns]"
            ]
          },
          "execution_count": 31,
          "metadata": {},
          "output_type": "execute_result"
        }
      ],
      "source": [
        "X_test.head()"
      ]
    },
    {
      "cell_type": "code",
      "execution_count": 32,
      "metadata": {
        "id": "KWTkou3UdCPa"
      },
      "outputs": [],
      "source": [
        "#Column Transformer\n",
        "\n",
        "ct = ColumnTransformer(\n",
        "    transformers=[\n",
        "        ('scaler', MinMaxScaler(), numeric_features),\n",
        "        ('one_hot', OneHotEncoder(handle_unknown='ignore'), categorical_features.drop('Work_Rate','National_Position')),\n",
        "        ('ordinal', OrdinalEncoder(), ['Work_Rate'])  \n",
        "    ],\n",
        ")"
      ]
    },
    {
      "cell_type": "code",
      "execution_count": 33,
      "metadata": {
        "id": "czYw19fFqUKe"
      },
      "outputs": [],
      "source": [
        "from sklearn.linear_model import LinearRegression\n",
        "#Se decide iniciar un pipeline con la regresion lineal simple\n",
        "Pipeline_lineal = Pipeline([('preprocesamiento', ct),\n",
        "                 ('regresor', LinearRegression())])"
      ]
    },
    {
      "cell_type": "code",
      "execution_count": 34,
      "metadata": {
        "colab": {
          "base_uri": "https://localhost:8080/",
          "height": 190
        },
        "id": "MXGWuF6fzj-Y",
        "outputId": "df91b54b-16c4-45b0-b083-597a798edeb0"
      },
      "outputs": [
        {
          "data": {
            "text/html": [
              "<style>#sk-container-id-2 {color: black;background-color: white;}#sk-container-id-2 pre{padding: 0;}#sk-container-id-2 div.sk-toggleable {background-color: white;}#sk-container-id-2 label.sk-toggleable__label {cursor: pointer;display: block;width: 100%;margin-bottom: 0;padding: 0.3em;box-sizing: border-box;text-align: center;}#sk-container-id-2 label.sk-toggleable__label-arrow:before {content: \"▸\";float: left;margin-right: 0.25em;color: #696969;}#sk-container-id-2 label.sk-toggleable__label-arrow:hover:before {color: black;}#sk-container-id-2 div.sk-estimator:hover label.sk-toggleable__label-arrow:before {color: black;}#sk-container-id-2 div.sk-toggleable__content {max-height: 0;max-width: 0;overflow: hidden;text-align: left;background-color: #f0f8ff;}#sk-container-id-2 div.sk-toggleable__content pre {margin: 0.2em;color: black;border-radius: 0.25em;background-color: #f0f8ff;}#sk-container-id-2 input.sk-toggleable__control:checked~div.sk-toggleable__content {max-height: 200px;max-width: 100%;overflow: auto;}#sk-container-id-2 input.sk-toggleable__control:checked~label.sk-toggleable__label-arrow:before {content: \"▾\";}#sk-container-id-2 div.sk-estimator input.sk-toggleable__control:checked~label.sk-toggleable__label {background-color: #d4ebff;}#sk-container-id-2 div.sk-label input.sk-toggleable__control:checked~label.sk-toggleable__label {background-color: #d4ebff;}#sk-container-id-2 input.sk-hidden--visually {border: 0;clip: rect(1px 1px 1px 1px);clip: rect(1px, 1px, 1px, 1px);height: 1px;margin: -1px;overflow: hidden;padding: 0;position: absolute;width: 1px;}#sk-container-id-2 div.sk-estimator {font-family: monospace;background-color: #f0f8ff;border: 1px dotted black;border-radius: 0.25em;box-sizing: border-box;margin-bottom: 0.5em;}#sk-container-id-2 div.sk-estimator:hover {background-color: #d4ebff;}#sk-container-id-2 div.sk-parallel-item::after {content: \"\";width: 100%;border-bottom: 1px solid gray;flex-grow: 1;}#sk-container-id-2 div.sk-label:hover label.sk-toggleable__label {background-color: #d4ebff;}#sk-container-id-2 div.sk-serial::before {content: \"\";position: absolute;border-left: 1px solid gray;box-sizing: border-box;top: 0;bottom: 0;left: 50%;z-index: 0;}#sk-container-id-2 div.sk-serial {display: flex;flex-direction: column;align-items: center;background-color: white;padding-right: 0.2em;padding-left: 0.2em;position: relative;}#sk-container-id-2 div.sk-item {position: relative;z-index: 1;}#sk-container-id-2 div.sk-parallel {display: flex;align-items: stretch;justify-content: center;background-color: white;position: relative;}#sk-container-id-2 div.sk-item::before, #sk-container-id-2 div.sk-parallel-item::before {content: \"\";position: absolute;border-left: 1px solid gray;box-sizing: border-box;top: 0;bottom: 0;left: 50%;z-index: -1;}#sk-container-id-2 div.sk-parallel-item {display: flex;flex-direction: column;z-index: 1;position: relative;background-color: white;}#sk-container-id-2 div.sk-parallel-item:first-child::after {align-self: flex-end;width: 50%;}#sk-container-id-2 div.sk-parallel-item:last-child::after {align-self: flex-start;width: 50%;}#sk-container-id-2 div.sk-parallel-item:only-child::after {width: 0;}#sk-container-id-2 div.sk-dashed-wrapped {border: 1px dashed gray;margin: 0 0.4em 0.5em 0.4em;box-sizing: border-box;padding-bottom: 0.4em;background-color: white;}#sk-container-id-2 div.sk-label label {font-family: monospace;font-weight: bold;display: inline-block;line-height: 1.2em;}#sk-container-id-2 div.sk-label-container {text-align: center;}#sk-container-id-2 div.sk-container {/* jupyter's `normalize.less` sets `[hidden] { display: none; }` but bootstrap.min.css set `[hidden] { display: none !important; }` so we also need the `!important` here to be able to override the default hidden behavior on the sphinx rendered scikit-learn.org. See: https://github.com/scikit-learn/scikit-learn/issues/21755 */display: inline-block !important;position: relative;}#sk-container-id-2 div.sk-text-repr-fallback {display: none;}</style><div id=\"sk-container-id-2\" class=\"sk-top-container\"><div class=\"sk-text-repr-fallback\"><pre>Pipeline(steps=[(&#x27;preprocesamiento&#x27;,\n",
              "                 ColumnTransformer(transformers=[(&#x27;scaler&#x27;, MinMaxScaler(),\n",
              "                                                  Index([&#x27;Height&#x27;, &#x27;Weight&#x27;, &#x27;Age&#x27;, &#x27;Ball_Control&#x27;, &#x27;Dribbling&#x27;, &#x27;Marking&#x27;,\n",
              "       &#x27;Sliding_Tackle&#x27;, &#x27;Standing_Tackle&#x27;, &#x27;Aggression&#x27;, &#x27;Reactions&#x27;,\n",
              "       &#x27;Interceptions&#x27;, &#x27;Vision&#x27;, &#x27;Composure&#x27;, &#x27;Crossing&#x27;, &#x27;Short_Pass&#x27;,\n",
              "       &#x27;Long_Pass&#x27;, &#x27;Acceleration&#x27;, &#x27;Speed&#x27;, &#x27;Stamina&#x27;, &#x27;Strength&#x27;, &#x27;Balance&#x27;,\n",
              "       &#x27;A...ot_Power&#x27;, &#x27;Finishing&#x27;,\n",
              "       &#x27;Long_Shots&#x27;, &#x27;Curve&#x27;, &#x27;Freekick_Accuracy&#x27;, &#x27;Penalties&#x27;, &#x27;Volleys&#x27;],\n",
              "      dtype=&#x27;object&#x27;)),\n",
              "                                                 (&#x27;one_hot&#x27;,\n",
              "                                                  OneHotEncoder(handle_unknown=&#x27;ignore&#x27;),\n",
              "                                                  Index([&#x27;Nationality&#x27;, &#x27;National_Position&#x27;, &#x27;Club_Position&#x27;, &#x27;Preffered_Foot&#x27;,\n",
              "       &#x27;Weak_foot&#x27;, &#x27;Skill_Moves&#x27;],\n",
              "      dtype=&#x27;object&#x27;)),\n",
              "                                                 (&#x27;ordinal&#x27;, OrdinalEncoder(),\n",
              "                                                  [&#x27;Work_Rate&#x27;])])),\n",
              "                (&#x27;regresor&#x27;, LinearRegression())])</pre><b>In a Jupyter environment, please rerun this cell to show the HTML representation or trust the notebook. <br />On GitHub, the HTML representation is unable to render, please try loading this page with nbviewer.org.</b></div><div class=\"sk-container\" hidden><div class=\"sk-item sk-dashed-wrapped\"><div class=\"sk-label-container\"><div class=\"sk-label sk-toggleable\"><input class=\"sk-toggleable__control sk-hidden--visually\" id=\"sk-estimator-id-10\" type=\"checkbox\" ><label for=\"sk-estimator-id-10\" class=\"sk-toggleable__label sk-toggleable__label-arrow\">Pipeline</label><div class=\"sk-toggleable__content\"><pre>Pipeline(steps=[(&#x27;preprocesamiento&#x27;,\n",
              "                 ColumnTransformer(transformers=[(&#x27;scaler&#x27;, MinMaxScaler(),\n",
              "                                                  Index([&#x27;Height&#x27;, &#x27;Weight&#x27;, &#x27;Age&#x27;, &#x27;Ball_Control&#x27;, &#x27;Dribbling&#x27;, &#x27;Marking&#x27;,\n",
              "       &#x27;Sliding_Tackle&#x27;, &#x27;Standing_Tackle&#x27;, &#x27;Aggression&#x27;, &#x27;Reactions&#x27;,\n",
              "       &#x27;Interceptions&#x27;, &#x27;Vision&#x27;, &#x27;Composure&#x27;, &#x27;Crossing&#x27;, &#x27;Short_Pass&#x27;,\n",
              "       &#x27;Long_Pass&#x27;, &#x27;Acceleration&#x27;, &#x27;Speed&#x27;, &#x27;Stamina&#x27;, &#x27;Strength&#x27;, &#x27;Balance&#x27;,\n",
              "       &#x27;A...ot_Power&#x27;, &#x27;Finishing&#x27;,\n",
              "       &#x27;Long_Shots&#x27;, &#x27;Curve&#x27;, &#x27;Freekick_Accuracy&#x27;, &#x27;Penalties&#x27;, &#x27;Volleys&#x27;],\n",
              "      dtype=&#x27;object&#x27;)),\n",
              "                                                 (&#x27;one_hot&#x27;,\n",
              "                                                  OneHotEncoder(handle_unknown=&#x27;ignore&#x27;),\n",
              "                                                  Index([&#x27;Nationality&#x27;, &#x27;National_Position&#x27;, &#x27;Club_Position&#x27;, &#x27;Preffered_Foot&#x27;,\n",
              "       &#x27;Weak_foot&#x27;, &#x27;Skill_Moves&#x27;],\n",
              "      dtype=&#x27;object&#x27;)),\n",
              "                                                 (&#x27;ordinal&#x27;, OrdinalEncoder(),\n",
              "                                                  [&#x27;Work_Rate&#x27;])])),\n",
              "                (&#x27;regresor&#x27;, LinearRegression())])</pre></div></div></div><div class=\"sk-serial\"><div class=\"sk-item sk-dashed-wrapped\"><div class=\"sk-label-container\"><div class=\"sk-label sk-toggleable\"><input class=\"sk-toggleable__control sk-hidden--visually\" id=\"sk-estimator-id-11\" type=\"checkbox\" ><label for=\"sk-estimator-id-11\" class=\"sk-toggleable__label sk-toggleable__label-arrow\">preprocesamiento: ColumnTransformer</label><div class=\"sk-toggleable__content\"><pre>ColumnTransformer(transformers=[(&#x27;scaler&#x27;, MinMaxScaler(),\n",
              "                                 Index([&#x27;Height&#x27;, &#x27;Weight&#x27;, &#x27;Age&#x27;, &#x27;Ball_Control&#x27;, &#x27;Dribbling&#x27;, &#x27;Marking&#x27;,\n",
              "       &#x27;Sliding_Tackle&#x27;, &#x27;Standing_Tackle&#x27;, &#x27;Aggression&#x27;, &#x27;Reactions&#x27;,\n",
              "       &#x27;Interceptions&#x27;, &#x27;Vision&#x27;, &#x27;Composure&#x27;, &#x27;Crossing&#x27;, &#x27;Short_Pass&#x27;,\n",
              "       &#x27;Long_Pass&#x27;, &#x27;Acceleration&#x27;, &#x27;Speed&#x27;, &#x27;Stamina&#x27;, &#x27;Strength&#x27;, &#x27;Balance&#x27;,\n",
              "       &#x27;Agility&#x27;, &#x27;Jumping&#x27;, &#x27;Heading&#x27;, &#x27;Shot_Power&#x27;, &#x27;Finishing&#x27;,\n",
              "       &#x27;Long_Shots&#x27;, &#x27;Curve&#x27;, &#x27;Freekick_Accuracy&#x27;, &#x27;Penalties&#x27;, &#x27;Volleys&#x27;],\n",
              "      dtype=&#x27;object&#x27;)),\n",
              "                                (&#x27;one_hot&#x27;,\n",
              "                                 OneHotEncoder(handle_unknown=&#x27;ignore&#x27;),\n",
              "                                 Index([&#x27;Nationality&#x27;, &#x27;National_Position&#x27;, &#x27;Club_Position&#x27;, &#x27;Preffered_Foot&#x27;,\n",
              "       &#x27;Weak_foot&#x27;, &#x27;Skill_Moves&#x27;],\n",
              "      dtype=&#x27;object&#x27;)),\n",
              "                                (&#x27;ordinal&#x27;, OrdinalEncoder(), [&#x27;Work_Rate&#x27;])])</pre></div></div></div><div class=\"sk-parallel\"><div class=\"sk-parallel-item\"><div class=\"sk-item\"><div class=\"sk-label-container\"><div class=\"sk-label sk-toggleable\"><input class=\"sk-toggleable__control sk-hidden--visually\" id=\"sk-estimator-id-12\" type=\"checkbox\" ><label for=\"sk-estimator-id-12\" class=\"sk-toggleable__label sk-toggleable__label-arrow\">scaler</label><div class=\"sk-toggleable__content\"><pre>Index([&#x27;Height&#x27;, &#x27;Weight&#x27;, &#x27;Age&#x27;, &#x27;Ball_Control&#x27;, &#x27;Dribbling&#x27;, &#x27;Marking&#x27;,\n",
              "       &#x27;Sliding_Tackle&#x27;, &#x27;Standing_Tackle&#x27;, &#x27;Aggression&#x27;, &#x27;Reactions&#x27;,\n",
              "       &#x27;Interceptions&#x27;, &#x27;Vision&#x27;, &#x27;Composure&#x27;, &#x27;Crossing&#x27;, &#x27;Short_Pass&#x27;,\n",
              "       &#x27;Long_Pass&#x27;, &#x27;Acceleration&#x27;, &#x27;Speed&#x27;, &#x27;Stamina&#x27;, &#x27;Strength&#x27;, &#x27;Balance&#x27;,\n",
              "       &#x27;Agility&#x27;, &#x27;Jumping&#x27;, &#x27;Heading&#x27;, &#x27;Shot_Power&#x27;, &#x27;Finishing&#x27;,\n",
              "       &#x27;Long_Shots&#x27;, &#x27;Curve&#x27;, &#x27;Freekick_Accuracy&#x27;, &#x27;Penalties&#x27;, &#x27;Volleys&#x27;],\n",
              "      dtype=&#x27;object&#x27;)</pre></div></div></div><div class=\"sk-serial\"><div class=\"sk-item\"><div class=\"sk-estimator sk-toggleable\"><input class=\"sk-toggleable__control sk-hidden--visually\" id=\"sk-estimator-id-13\" type=\"checkbox\" ><label for=\"sk-estimator-id-13\" class=\"sk-toggleable__label sk-toggleable__label-arrow\">MinMaxScaler</label><div class=\"sk-toggleable__content\"><pre>MinMaxScaler()</pre></div></div></div></div></div></div><div class=\"sk-parallel-item\"><div class=\"sk-item\"><div class=\"sk-label-container\"><div class=\"sk-label sk-toggleable\"><input class=\"sk-toggleable__control sk-hidden--visually\" id=\"sk-estimator-id-14\" type=\"checkbox\" ><label for=\"sk-estimator-id-14\" class=\"sk-toggleable__label sk-toggleable__label-arrow\">one_hot</label><div class=\"sk-toggleable__content\"><pre>Index([&#x27;Nationality&#x27;, &#x27;National_Position&#x27;, &#x27;Club_Position&#x27;, &#x27;Preffered_Foot&#x27;,\n",
              "       &#x27;Weak_foot&#x27;, &#x27;Skill_Moves&#x27;],\n",
              "      dtype=&#x27;object&#x27;)</pre></div></div></div><div class=\"sk-serial\"><div class=\"sk-item\"><div class=\"sk-estimator sk-toggleable\"><input class=\"sk-toggleable__control sk-hidden--visually\" id=\"sk-estimator-id-15\" type=\"checkbox\" ><label for=\"sk-estimator-id-15\" class=\"sk-toggleable__label sk-toggleable__label-arrow\">OneHotEncoder</label><div class=\"sk-toggleable__content\"><pre>OneHotEncoder(handle_unknown=&#x27;ignore&#x27;)</pre></div></div></div></div></div></div><div class=\"sk-parallel-item\"><div class=\"sk-item\"><div class=\"sk-label-container\"><div class=\"sk-label sk-toggleable\"><input class=\"sk-toggleable__control sk-hidden--visually\" id=\"sk-estimator-id-16\" type=\"checkbox\" ><label for=\"sk-estimator-id-16\" class=\"sk-toggleable__label sk-toggleable__label-arrow\">ordinal</label><div class=\"sk-toggleable__content\"><pre>[&#x27;Work_Rate&#x27;]</pre></div></div></div><div class=\"sk-serial\"><div class=\"sk-item\"><div class=\"sk-estimator sk-toggleable\"><input class=\"sk-toggleable__control sk-hidden--visually\" id=\"sk-estimator-id-17\" type=\"checkbox\" ><label for=\"sk-estimator-id-17\" class=\"sk-toggleable__label sk-toggleable__label-arrow\">OrdinalEncoder</label><div class=\"sk-toggleable__content\"><pre>OrdinalEncoder()</pre></div></div></div></div></div></div></div></div><div class=\"sk-item\"><div class=\"sk-estimator sk-toggleable\"><input class=\"sk-toggleable__control sk-hidden--visually\" id=\"sk-estimator-id-18\" type=\"checkbox\" ><label for=\"sk-estimator-id-18\" class=\"sk-toggleable__label sk-toggleable__label-arrow\">LinearRegression</label><div class=\"sk-toggleable__content\"><pre>LinearRegression()</pre></div></div></div></div></div></div></div>"
            ],
            "text/plain": [
              "Pipeline(steps=[('preprocesamiento',\n",
              "                 ColumnTransformer(transformers=[('scaler', MinMaxScaler(),\n",
              "                                                  Index(['Height', 'Weight', 'Age', 'Ball_Control', 'Dribbling', 'Marking',\n",
              "       'Sliding_Tackle', 'Standing_Tackle', 'Aggression', 'Reactions',\n",
              "       'Interceptions', 'Vision', 'Composure', 'Crossing', 'Short_Pass',\n",
              "       'Long_Pass', 'Acceleration', 'Speed', 'Stamina', 'Strength', 'Balance',\n",
              "       'A...ot_Power', 'Finishing',\n",
              "       'Long_Shots', 'Curve', 'Freekick_Accuracy', 'Penalties', 'Volleys'],\n",
              "      dtype='object')),\n",
              "                                                 ('one_hot',\n",
              "                                                  OneHotEncoder(handle_unknown='ignore'),\n",
              "                                                  Index(['Nationality', 'National_Position', 'Club_Position', 'Preffered_Foot',\n",
              "       'Weak_foot', 'Skill_Moves'],\n",
              "      dtype='object')),\n",
              "                                                 ('ordinal', OrdinalEncoder(),\n",
              "                                                  ['Work_Rate'])])),\n",
              "                ('regresor', LinearRegression())])"
            ]
          },
          "execution_count": 34,
          "metadata": {},
          "output_type": "execute_result"
        }
      ],
      "source": [
        "Pipeline_lineal.fit(X_train, y_train)"
      ]
    },
    {
      "cell_type": "code",
      "execution_count": 35,
      "metadata": {
        "id": "tOclNxdZznGX"
      },
      "outputs": [],
      "source": [
        "y_pred = Pipeline_lineal.predict(X_test)"
      ]
    },
    {
      "cell_type": "code",
      "execution_count": 36,
      "metadata": {
        "id": "lHFlvP9-znD4"
      },
      "outputs": [],
      "source": [
        "from sklearn.metrics import r2_score\n",
        "def evaluate(y_test, y_pred):\n",
        "    print('R²:', r2_score(y_test, y_pred))"
      ]
    },
    {
      "cell_type": "code",
      "execution_count": 37,
      "metadata": {
        "colab": {
          "base_uri": "https://localhost:8080/"
        },
        "id": "apt6tGPj0IPV",
        "outputId": "5bf30fbe-322f-4a6e-bb3c-0952ee812080"
      },
      "outputs": [
        {
          "name": "stdout",
          "output_type": "stream",
          "text": [
            "R²: 0.044025884260525894\n"
          ]
        }
      ],
      "source": [
        "evaluate(y_test, y_pred)"
      ]
    },
    {
      "cell_type": "code",
      "execution_count": 42,
      "metadata": {
        "id": "CxfzYubGLkgi"
      },
      "outputs": [],
      "source": [
        "#Se decide explorar otros modelos regularizados para ver si es factible mejorar este rendimiento"
      ]
    },
    {
      "cell_type": "code",
      "execution_count": 39,
      "metadata": {
        "id": "Ue_-BhlhznBE"
      },
      "outputs": [],
      "source": [
        "#De acuerdo a la guía se sigue el siguiente camino\n",
        "  # 1. >50 (Yes)\n",
        "  # 2. Predicting Category (No)\n",
        "  # 3. Predicting Quantity (Yes)\n",
        "  # 4. <100K samples (Yes)\n",
        "  # 5. few features should be important (Yes)\n",
        "  # 6. Lasso / ElasticNet"
      ]
    },
    {
      "cell_type": "code",
      "execution_count": 40,
      "metadata": {
        "id": "AU3-1hqX0FWR"
      },
      "outputs": [],
      "source": [
        "from sklearn.linear_model import Lasso\n",
        "from sklearn.linear_model import ElasticNet\n",
        "from sklearn.linear_model import Ridge\n",
        "\n",
        "Pipeline_Lasso = Pipeline([('preprocesamiento', ct),\n",
        "                 ('regresor', Lasso(alpha=0.1))])\n",
        "\n",
        "Pipeline_ElasticNet = Pipeline([('preprocesamiento', ct),\n",
        "                 ('regresor', ElasticNet(alpha=0.01))])\n",
        "\n",
        "Pipeline_Ridge = Pipeline([('preprocesamiento', ct),\n",
        "                 ('regresor', Ridge())])\n"
      ]
    },
    {
      "cell_type": "code",
      "execution_count": 41,
      "metadata": {
        "colab": {
          "base_uri": "https://localhost:8080/"
        },
        "id": "2E7txOTk1EMZ",
        "outputId": "d5d0d514-078f-4413-9766-f6902e675b5e"
      },
      "outputs": [
        {
          "name": "stderr",
          "output_type": "stream",
          "text": [
            "c:\\Users\\jigna\\MyGitHub_Proyects\\Laboratorios MDS7021\\.venv\\lib\\site-packages\\sklearn\\linear_model\\_coordinate_descent.py:592: ConvergenceWarning: Objective did not converge. You might want to increase the number of iterations. Duality gap: 1835027242022.4248, tolerance: 1102264386.9988253\n",
            "  model = cd_fast.sparse_enet_coordinate_descent(\n"
          ]
        },
        {
          "name": "stdout",
          "output_type": "stream",
          "text": [
            "R²: 0.033643792892070645\n",
            "R²: 0.39326535198249957\n",
            "R²: 0.2313695477723966\n"
          ]
        }
      ],
      "source": [
        "Pipeline_Lasso.fit(X_train, y_train)\n",
        "Pipeline_ElasticNet.fit(X_train, y_train)\n",
        "Pipeline_Ridge.fit(X_train, y_train)\n",
        "\n",
        "lasso_y_pred = Pipeline_Lasso.predict(X_test)\n",
        "en_y_pred = Pipeline_ElasticNet.predict(X_test)\n",
        "ridge_y_pred = Pipeline_Ridge.predict(X_test)\n",
        "\n",
        "evaluate(y_test, lasso_y_pred)\n",
        "evaluate(y_test, en_y_pred)\n",
        "evaluate(y_test, ridge_y_pred)"
      ]
    },
    {
      "attachments": {},
      "cell_type": "markdown",
      "metadata": {
        "cell_id": "bb39f9e88bf04d639ea5d67732450be6",
        "deepnote_cell_type": "markdown",
        "id": "zLKCrWmqDf6M",
        "tags": []
      },
      "source": [
        "**Respuesta**:\n",
        "\n",
        "```\n",
        "Primeramente se observa que el modelo ElasticNet es el que da mejor resultado, siendo el único suficiente para los requisitos que ha impuesto Renacin.\n",
        "\n",
        "Por otro lado, los modelos Lasso y Rigde, tienen rendimientos bajos, vale decir, que las penalizaciones tanto en valor absoluto (L1) como cuadráticos (L2) para reducir magnitudes y efectos de multicolinealidad en este dataset no tienen gran efecto, sin embargo, ElasticNet al ser una combinación de los modelos anteriores mejora el rendimiento obtenido por ambos de forma separada.\n",
        "\n",
        "Otro elemento a mencionar es la baja cantidad de datos que se obtienen del dataset de Salarios, resultando del cruce con la base de dato de jugadores en una base con 1800 datos, por lo que es posible que al aumentar la cantidad de datos y no necesariamente las caracteristica , se comiencen a conformar patrones que estos modelos puedan capturar de mejor manera y con ello potenciar su valor predictivo.\n",
        "\n",
        "\n",
        "\n",
        "```"
      ]
    },
    {
      "cell_type": "markdown",
      "metadata": {
        "cell_id": "502994b597214d4ba2f05e2b900d895c",
        "deepnote_cell_type": "markdown",
        "id": "Rg4ZMq8ezAH6"
      },
      "source": [
        "# Conclusión\n",
        "Eso ha sido todo para el lab de hoy, recuerden que el laboratorio tiene un plazo de entrega de una semana. Cualquier duda del laboratorio, no duden en contactarnos por mail o U-cursos.\n",
        "\n",
        "<p align=\"center\">\n",
        "  <img src=\"https://media2.giphy.com/media/l1J3CbFgn5o7DGRuE/giphy.gif\">\n",
        "</p>"
      ]
    },
    {
      "cell_type": "markdown",
      "metadata": {
        "cell_id": "da6d643bcf1542a8b119a15edaf0f75c",
        "deepnote_cell_type": "markdown",
        "id": "wCL1lACBzAH7"
      },
      "source": [
        "<br>\n",
        "<center>\n",
        "<img src=\"https://i.kym-cdn.com/photos/images/original/001/194/195/b18.png\" width=100 height=50 />\n",
        "</center>\n",
        "<br>"
      ]
    },
    {
      "cell_type": "markdown",
      "metadata": {
        "created_in_deepnote_cell": true,
        "deepnote_cell_type": "markdown",
        "id": "qIM85ngyPnor"
      },
      "source": [
        "<a style='text-decoration:none;line-height:16px;display:flex;color:#5B5B62;padding:10px;justify-content:end;' href='https://deepnote.com?utm_source=created-in-deepnote-cell&projectId=87110296-876e-426f-b91d-aaf681223468' target=\"_blank\">\n",
        "<img alt='Created in deepnote.com' style='display:inline;max-height:16px;margin:0px;margin-right:7.5px;' src='data:image/svg+xml;base64,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' > </img>\n",
        "Created in <span style='font-weight:600;margin-left:4px;'>Deepnote</span></a>"
      ]
    }
  ],
  "metadata": {
    "colab": {
      "provenance": []
    },
    "deepnote": {},
    "deepnote_execution_queue": [],
    "deepnote_notebook_id": "41ad7e529bfb484c8f7f538003203695",
    "kernelspec": {
      "display_name": "Python 3",
      "language": "python",
      "name": "python3"
    },
    "language_info": {
      "codemirror_mode": {
        "name": "ipython",
        "version": 3
      },
      "file_extension": ".py",
      "mimetype": "text/x-python",
      "name": "python",
      "nbconvert_exporter": "python",
      "pygments_lexer": "ipython3",
      "version": "3.10.8"
    },
    "toc": {
      "base_numbering": 1,
      "nav_menu": {},
      "number_sections": true,
      "sideBar": true,
      "skip_h1_title": true,
      "title_cell": "Tabla de Contenidos",
      "title_sidebar": "Contenidos",
      "toc_cell": false,
      "toc_position": {
        "height": "calc(100% - 180px)",
        "left": "10px",
        "top": "150px",
        "width": "241.867px"
      },
      "toc_section_display": true,
      "toc_window_display": true
    },
    "varInspector": {
      "cols": {
        "lenName": 16,
        "lenType": 16,
        "lenVar": 40
      },
      "kernels_config": {
        "python": {
          "delete_cmd_postfix": "",
          "delete_cmd_prefix": "del ",
          "library": "var_list.py",
          "varRefreshCmd": "print(var_dic_list())"
        },
        "r": {
          "delete_cmd_postfix": ") ",
          "delete_cmd_prefix": "rm(",
          "library": "var_list.r",
          "varRefreshCmd": "cat(var_dic_list()) "
        }
      },
      "types_to_exclude": [
        "module",
        "function",
        "builtin_function_or_method",
        "instance",
        "_Feature"
      ],
      "window_display": false
    }
  },
  "nbformat": 4,
  "nbformat_minor": 0
}
